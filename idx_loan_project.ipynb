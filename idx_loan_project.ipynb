{
 "cells": [
  {
   "cell_type": "markdown",
   "id": "0588cc21",
   "metadata": {},
   "source": [
    "<h1 align=\"center\">ID/X Loan Prediction</h1>\n"
   ]
  },
  {
   "cell_type": "markdown",
   "id": "9c4a4624",
   "metadata": {},
   "source": [
    "### Import Packages"
   ]
  },
  {
   "cell_type": "code",
   "execution_count": 2,
   "id": "f8b9f3db",
   "metadata": {},
   "outputs": [],
   "source": [
    "import pandas as pd\n",
    "import numpy as np\n",
    "\n",
    "import matplotlib.pyplot as plt\n",
    "import seaborn as sns\n",
    "\n",
    "import tensorflow as tf\n",
    "from tensorflow.keras.models import Sequential\n",
    "from tensorflow.keras.layers import Dense\n",
    "from tensorflow.keras.activations import relu\n",
    "from tensorflow.keras.losses import binary_crossentropy\n",
    "from tensorflow.keras.optimizers import Adam\n",
    "\n",
    "from sklearn import metrics\n",
    "from sklearn.metrics import (accuracy_score, f1_score,average_precision_score, confusion_matrix,\n",
    "                             average_precision_score, precision_score, recall_score, roc_auc_score, classification_report, roc_curve,auc, ConfusionMatrixDisplay )\n",
    "from sklearn.ensemble import RandomForestClassifier\n",
    "from sklearn.linear_model import LogisticRegression\n",
    "from sklearn.model_selection import train_test_split\n",
    "\n",
    "import xgboost as xgb\n",
    "\n",
    "# Imbalance Class Framework\n",
    "import imblearn\n",
    "from imblearn.under_sampling import RandomUnderSampler\n",
    "from imblearn.pipeline import Pipeline\n",
    "from imblearn.over_sampling import SMOTE\n",
    "from collections import Counter\n",
    "\n",
    "import category_encoders as ce\n",
    "from pickle import dump"
   ]
  },
  {
   "cell_type": "code",
   "execution_count": 3,
   "id": "1d80a7dd",
   "metadata": {},
   "outputs": [
    {
     "name": "stderr",
     "output_type": "stream",
     "text": [
      "C:\\Users\\ASUS\\AppData\\Local\\Temp\\ipykernel_8064\\4057457026.py:1: DtypeWarning: Columns (20) have mixed types. Specify dtype option on import or set low_memory=False.\n",
      "  df = pd.read_csv(\"loan_data_2007_2014.csv\", index_col=['id'])\n"
     ]
    },
    {
     "data": {
      "text/html": [
       "<div>\n",
       "<style scoped>\n",
       "    .dataframe tbody tr th:only-of-type {\n",
       "        vertical-align: middle;\n",
       "    }\n",
       "\n",
       "    .dataframe tbody tr th {\n",
       "        vertical-align: top;\n",
       "    }\n",
       "\n",
       "    .dataframe thead th {\n",
       "        text-align: right;\n",
       "    }\n",
       "</style>\n",
       "<table border=\"1\" class=\"dataframe\">\n",
       "  <thead>\n",
       "    <tr style=\"text-align: right;\">\n",
       "      <th></th>\n",
       "      <th>Unnamed: 0</th>\n",
       "      <th>member_id</th>\n",
       "      <th>loan_amnt</th>\n",
       "      <th>funded_amnt</th>\n",
       "      <th>funded_amnt_inv</th>\n",
       "      <th>term</th>\n",
       "      <th>int_rate</th>\n",
       "      <th>installment</th>\n",
       "      <th>grade</th>\n",
       "      <th>sub_grade</th>\n",
       "      <th>...</th>\n",
       "      <th>total_bal_il</th>\n",
       "      <th>il_util</th>\n",
       "      <th>open_rv_12m</th>\n",
       "      <th>open_rv_24m</th>\n",
       "      <th>max_bal_bc</th>\n",
       "      <th>all_util</th>\n",
       "      <th>total_rev_hi_lim</th>\n",
       "      <th>inq_fi</th>\n",
       "      <th>total_cu_tl</th>\n",
       "      <th>inq_last_12m</th>\n",
       "    </tr>\n",
       "    <tr>\n",
       "      <th>id</th>\n",
       "      <th></th>\n",
       "      <th></th>\n",
       "      <th></th>\n",
       "      <th></th>\n",
       "      <th></th>\n",
       "      <th></th>\n",
       "      <th></th>\n",
       "      <th></th>\n",
       "      <th></th>\n",
       "      <th></th>\n",
       "      <th></th>\n",
       "      <th></th>\n",
       "      <th></th>\n",
       "      <th></th>\n",
       "      <th></th>\n",
       "      <th></th>\n",
       "      <th></th>\n",
       "      <th></th>\n",
       "      <th></th>\n",
       "      <th></th>\n",
       "      <th></th>\n",
       "    </tr>\n",
       "  </thead>\n",
       "  <tbody>\n",
       "    <tr>\n",
       "      <th>1077501</th>\n",
       "      <td>0</td>\n",
       "      <td>1296599</td>\n",
       "      <td>5000</td>\n",
       "      <td>5000</td>\n",
       "      <td>4975.0</td>\n",
       "      <td>36 months</td>\n",
       "      <td>10.65</td>\n",
       "      <td>162.87</td>\n",
       "      <td>B</td>\n",
       "      <td>B2</td>\n",
       "      <td>...</td>\n",
       "      <td>NaN</td>\n",
       "      <td>NaN</td>\n",
       "      <td>NaN</td>\n",
       "      <td>NaN</td>\n",
       "      <td>NaN</td>\n",
       "      <td>NaN</td>\n",
       "      <td>NaN</td>\n",
       "      <td>NaN</td>\n",
       "      <td>NaN</td>\n",
       "      <td>NaN</td>\n",
       "    </tr>\n",
       "    <tr>\n",
       "      <th>1077430</th>\n",
       "      <td>1</td>\n",
       "      <td>1314167</td>\n",
       "      <td>2500</td>\n",
       "      <td>2500</td>\n",
       "      <td>2500.0</td>\n",
       "      <td>60 months</td>\n",
       "      <td>15.27</td>\n",
       "      <td>59.83</td>\n",
       "      <td>C</td>\n",
       "      <td>C4</td>\n",
       "      <td>...</td>\n",
       "      <td>NaN</td>\n",
       "      <td>NaN</td>\n",
       "      <td>NaN</td>\n",
       "      <td>NaN</td>\n",
       "      <td>NaN</td>\n",
       "      <td>NaN</td>\n",
       "      <td>NaN</td>\n",
       "      <td>NaN</td>\n",
       "      <td>NaN</td>\n",
       "      <td>NaN</td>\n",
       "    </tr>\n",
       "    <tr>\n",
       "      <th>1077175</th>\n",
       "      <td>2</td>\n",
       "      <td>1313524</td>\n",
       "      <td>2400</td>\n",
       "      <td>2400</td>\n",
       "      <td>2400.0</td>\n",
       "      <td>36 months</td>\n",
       "      <td>15.96</td>\n",
       "      <td>84.33</td>\n",
       "      <td>C</td>\n",
       "      <td>C5</td>\n",
       "      <td>...</td>\n",
       "      <td>NaN</td>\n",
       "      <td>NaN</td>\n",
       "      <td>NaN</td>\n",
       "      <td>NaN</td>\n",
       "      <td>NaN</td>\n",
       "      <td>NaN</td>\n",
       "      <td>NaN</td>\n",
       "      <td>NaN</td>\n",
       "      <td>NaN</td>\n",
       "      <td>NaN</td>\n",
       "    </tr>\n",
       "    <tr>\n",
       "      <th>1076863</th>\n",
       "      <td>3</td>\n",
       "      <td>1277178</td>\n",
       "      <td>10000</td>\n",
       "      <td>10000</td>\n",
       "      <td>10000.0</td>\n",
       "      <td>36 months</td>\n",
       "      <td>13.49</td>\n",
       "      <td>339.31</td>\n",
       "      <td>C</td>\n",
       "      <td>C1</td>\n",
       "      <td>...</td>\n",
       "      <td>NaN</td>\n",
       "      <td>NaN</td>\n",
       "      <td>NaN</td>\n",
       "      <td>NaN</td>\n",
       "      <td>NaN</td>\n",
       "      <td>NaN</td>\n",
       "      <td>NaN</td>\n",
       "      <td>NaN</td>\n",
       "      <td>NaN</td>\n",
       "      <td>NaN</td>\n",
       "    </tr>\n",
       "    <tr>\n",
       "      <th>1075358</th>\n",
       "      <td>4</td>\n",
       "      <td>1311748</td>\n",
       "      <td>3000</td>\n",
       "      <td>3000</td>\n",
       "      <td>3000.0</td>\n",
       "      <td>60 months</td>\n",
       "      <td>12.69</td>\n",
       "      <td>67.79</td>\n",
       "      <td>B</td>\n",
       "      <td>B5</td>\n",
       "      <td>...</td>\n",
       "      <td>NaN</td>\n",
       "      <td>NaN</td>\n",
       "      <td>NaN</td>\n",
       "      <td>NaN</td>\n",
       "      <td>NaN</td>\n",
       "      <td>NaN</td>\n",
       "      <td>NaN</td>\n",
       "      <td>NaN</td>\n",
       "      <td>NaN</td>\n",
       "      <td>NaN</td>\n",
       "    </tr>\n",
       "  </tbody>\n",
       "</table>\n",
       "<p>5 rows × 74 columns</p>\n",
       "</div>"
      ],
      "text/plain": [
       "         Unnamed: 0  member_id  loan_amnt  funded_amnt  funded_amnt_inv  \\\n",
       "id                                                                        \n",
       "1077501           0    1296599       5000         5000           4975.0   \n",
       "1077430           1    1314167       2500         2500           2500.0   \n",
       "1077175           2    1313524       2400         2400           2400.0   \n",
       "1076863           3    1277178      10000        10000          10000.0   \n",
       "1075358           4    1311748       3000         3000           3000.0   \n",
       "\n",
       "               term  int_rate  installment grade sub_grade  ... total_bal_il  \\\n",
       "id                                                          ...                \n",
       "1077501   36 months     10.65       162.87     B        B2  ...          NaN   \n",
       "1077430   60 months     15.27        59.83     C        C4  ...          NaN   \n",
       "1077175   36 months     15.96        84.33     C        C5  ...          NaN   \n",
       "1076863   36 months     13.49       339.31     C        C1  ...          NaN   \n",
       "1075358   60 months     12.69        67.79     B        B5  ...          NaN   \n",
       "\n",
       "        il_util open_rv_12m  open_rv_24m max_bal_bc all_util total_rev_hi_lim  \\\n",
       "id                                                                              \n",
       "1077501     NaN         NaN          NaN        NaN      NaN              NaN   \n",
       "1077430     NaN         NaN          NaN        NaN      NaN              NaN   \n",
       "1077175     NaN         NaN          NaN        NaN      NaN              NaN   \n",
       "1076863     NaN         NaN          NaN        NaN      NaN              NaN   \n",
       "1075358     NaN         NaN          NaN        NaN      NaN              NaN   \n",
       "\n",
       "        inq_fi total_cu_tl inq_last_12m  \n",
       "id                                       \n",
       "1077501    NaN         NaN          NaN  \n",
       "1077430    NaN         NaN          NaN  \n",
       "1077175    NaN         NaN          NaN  \n",
       "1076863    NaN         NaN          NaN  \n",
       "1075358    NaN         NaN          NaN  \n",
       "\n",
       "[5 rows x 74 columns]"
      ]
     },
     "execution_count": 3,
     "metadata": {},
     "output_type": "execute_result"
    }
   ],
   "source": [
    "df = pd.read_csv(\"loan_data_2007_2014.csv\", index_col=['id'])\n",
    "df.head()"
   ]
  },
  {
   "cell_type": "code",
   "execution_count": 4,
   "id": "f47ed512",
   "metadata": {},
   "outputs": [],
   "source": [
    "df.drop(columns=['Unnamed: 0'], inplace=True)"
   ]
  },
  {
   "cell_type": "code",
   "execution_count": 5,
   "id": "bd334a8a",
   "metadata": {
    "scrolled": false
   },
   "outputs": [
    {
     "data": {
      "text/plain": [
       "Index(['member_id', 'loan_amnt', 'funded_amnt', 'funded_amnt_inv', 'term',\n",
       "       'int_rate', 'installment', 'grade', 'sub_grade', 'emp_title',\n",
       "       'emp_length', 'home_ownership', 'annual_inc', 'verification_status',\n",
       "       'issue_d', 'loan_status', 'pymnt_plan', 'url', 'desc', 'purpose',\n",
       "       'title', 'zip_code', 'addr_state', 'dti', 'delinq_2yrs',\n",
       "       'earliest_cr_line', 'inq_last_6mths', 'mths_since_last_delinq',\n",
       "       'mths_since_last_record', 'open_acc', 'pub_rec', 'revol_bal',\n",
       "       'revol_util', 'total_acc', 'initial_list_status', 'out_prncp',\n",
       "       'out_prncp_inv', 'total_pymnt', 'total_pymnt_inv', 'total_rec_prncp',\n",
       "       'total_rec_int', 'total_rec_late_fee', 'recoveries',\n",
       "       'collection_recovery_fee', 'last_pymnt_d', 'last_pymnt_amnt',\n",
       "       'next_pymnt_d', 'last_credit_pull_d', 'collections_12_mths_ex_med',\n",
       "       'mths_since_last_major_derog', 'policy_code', 'application_type',\n",
       "       'annual_inc_joint', 'dti_joint', 'verification_status_joint',\n",
       "       'acc_now_delinq', 'tot_coll_amt', 'tot_cur_bal', 'open_acc_6m',\n",
       "       'open_il_6m', 'open_il_12m', 'open_il_24m', 'mths_since_rcnt_il',\n",
       "       'total_bal_il', 'il_util', 'open_rv_12m', 'open_rv_24m', 'max_bal_bc',\n",
       "       'all_util', 'total_rev_hi_lim', 'inq_fi', 'total_cu_tl',\n",
       "       'inq_last_12m'],\n",
       "      dtype='object')"
      ]
     },
     "execution_count": 5,
     "metadata": {},
     "output_type": "execute_result"
    }
   ],
   "source": [
    "df.columns"
   ]
  },
  {
   "cell_type": "markdown",
   "id": "87f8d96a",
   "metadata": {},
   "source": [
    "### Confussion notes\n",
    "#### Target class was not clear, but these features can potentially be used for the target:\n",
    "1. grade (A-G): categorical\n",
    "2. loan_status (varies): categorical\n",
    "3. int_rate or interest rate: numerical (need treshold)\n",
    "\n",
    "#### feature engineering\n",
    "4. debt_to_income_ratio: numerical (need treshold) "
   ]
  },
  {
   "cell_type": "code",
   "execution_count": 6,
   "id": "2b5a533c",
   "metadata": {},
   "outputs": [
    {
     "data": {
      "text/plain": [
       "B    136929\n",
       "C    125293\n",
       "D     76888\n",
       "A     74867\n",
       "E     35757\n",
       "F     13229\n",
       "G      3322\n",
       "Name: grade, dtype: int64"
      ]
     },
     "execution_count": 6,
     "metadata": {},
     "output_type": "execute_result"
    }
   ],
   "source": [
    "df['grade'].value_counts()"
   ]
  },
  {
   "cell_type": "code",
   "execution_count": 7,
   "id": "9ff25d24",
   "metadata": {
    "scrolled": true
   },
   "outputs": [
    {
     "data": {
      "text/plain": [
       "Current                                                224226\n",
       "Fully Paid                                             184739\n",
       "Charged Off                                             42475\n",
       "Late (31-120 days)                                       6900\n",
       "In Grace Period                                          3146\n",
       "Does not meet the credit policy. Status:Fully Paid       1988\n",
       "Late (16-30 days)                                        1218\n",
       "Default                                                   832\n",
       "Does not meet the credit policy. Status:Charged Off       761\n",
       "Name: loan_status, dtype: int64"
      ]
     },
     "execution_count": 7,
     "metadata": {},
     "output_type": "execute_result"
    }
   ],
   "source": [
    "df['loan_status'].value_counts()"
   ]
  },
  {
   "cell_type": "code",
   "execution_count": 8,
   "id": "9fad154e",
   "metadata": {},
   "outputs": [
    {
     "data": {
      "text/plain": [
       "12.99    15846\n",
       "10.99    14837\n",
       "15.61    13074\n",
       "8.90     11424\n",
       "16.29    10587\n",
       "         ...  \n",
       "24.40        1\n",
       "16.83        1\n",
       "17.78        1\n",
       "24.59        1\n",
       "18.72        1\n",
       "Name: int_rate, Length: 506, dtype: int64"
      ]
     },
     "execution_count": 8,
     "metadata": {},
     "output_type": "execute_result"
    }
   ],
   "source": [
    "df['int_rate'].value_counts()"
   ]
  },
  {
   "cell_type": "code",
   "execution_count": 9,
   "id": "7beef6ae",
   "metadata": {},
   "outputs": [
    {
     "data": {
      "text/plain": [
       "grade  loan_status                                        \n",
       "B      Current                                                64009\n",
       "C      Current                                                63351\n",
       "B      Fully Paid                                             60962\n",
       "C      Fully Paid                                             45818\n",
       "D      Current                                                37460\n",
       "A      Fully Paid                                             36455\n",
       "       Current                                                35191\n",
       "D      Fully Paid                                             26089\n",
       "E      Current                                                17229\n",
       "C      Charged Off                                            11921\n",
       "E      Fully Paid                                             10569\n",
       "D      Charged Off                                             9748\n",
       "B      Charged Off                                             9157\n",
       "E      Charged Off                                             5710\n",
       "F      Current                                                 5697\n",
       "       Fully Paid                                              3927\n",
       "       Charged Off                                             2685\n",
       "A      Charged Off                                             2527\n",
       "C      Late (31-120 days)                                      2057\n",
       "D      Late (31-120 days)                                      1691\n",
       "B      Late (31-120 days)                                      1368\n",
       "G      Current                                                 1289\n",
       "E      Late (31-120 days)                                       966\n",
       "G      Fully Paid                                               919\n",
       "C      In Grace Period                                          900\n",
       "G      Charged Off                                              727\n",
       "D      In Grace Period                                          713\n",
       "B      In Grace Period                                          681\n",
       "D      Does not meet the credit policy. Status:Fully Paid       494\n",
       "C      Does not meet the credit policy. Status:Fully Paid       481\n",
       "E      In Grace Period                                          442\n",
       "       Does not meet the credit policy. Status:Fully Paid       378\n",
       "F      Late (31-120 days)                                       377\n",
       "C      Late (16-30 days)                                        359\n",
       "A      Late (31-120 days)                                       332\n",
       "D      Late (16-30 days)                                        284\n",
       "B      Does not meet the credit policy. Status:Fully Paid       269\n",
       "C      Default                                                  258\n",
       "B      Late (16-30 days)                                        249\n",
       "D      Default                                                  212\n",
       "       Does not meet the credit policy. Status:Charged Off      197\n",
       "F      In Grace Period                                          184\n",
       "A      In Grace Period                                          176\n",
       "E      Late (16-30 days)                                        175\n",
       "       Does not meet the credit policy. Status:Charged Off      158\n",
       "F      Does not meet the credit policy. Status:Fully Paid       154\n",
       "B      Default                                                  149\n",
       "C      Does not meet the credit policy. Status:Charged Off      148\n",
       "E      Default                                                  130\n",
       "G      Does not meet the credit policy. Status:Fully Paid       122\n",
       "       Late (31-120 days)                                       109\n",
       "F      Does not meet the credit policy. Status:Charged Off       93\n",
       "A      Does not meet the credit policy. Status:Fully Paid        90\n",
       "B      Does not meet the credit policy. Status:Charged Off       85\n",
       "F      Late (16-30 days)                                         75\n",
       "G      Does not meet the credit policy. Status:Charged Off       72\n",
       "A      Late (16-30 days)                                         58\n",
       "G      In Grace Period                                           50\n",
       "F      Default                                                   37\n",
       "A      Default                                                   30\n",
       "G      Late (16-30 days)                                         18\n",
       "       Default                                                   16\n",
       "A      Does not meet the credit policy. Status:Charged Off        8\n",
       "dtype: int64"
      ]
     },
     "execution_count": 9,
     "metadata": {},
     "output_type": "execute_result"
    }
   ],
   "source": [
    "pd.set_option('display.max_rows', 63)\n",
    "df[['grade', 'loan_status']].value_counts()"
   ]
  },
  {
   "cell_type": "code",
   "execution_count": 10,
   "id": "90139df7",
   "metadata": {},
   "outputs": [
    {
     "data": {
      "text/plain": [
       "count    466285.000000\n",
       "mean         13.829236\n",
       "std           4.357587\n",
       "min           5.420000\n",
       "25%          10.990000\n",
       "50%          13.660000\n",
       "75%          16.490000\n",
       "max          26.060000\n",
       "Name: int_rate, dtype: float64"
      ]
     },
     "execution_count": 10,
     "metadata": {},
     "output_type": "execute_result"
    }
   ],
   "source": [
    "df['int_rate'].describe()"
   ]
  },
  {
   "cell_type": "markdown",
   "id": "99e91fad",
   "metadata": {},
   "source": [
    "### Inspect Data"
   ]
  },
  {
   "cell_type": "code",
   "execution_count": 11,
   "id": "ec17dced",
   "metadata": {},
   "outputs": [
    {
     "name": "stdout",
     "output_type": "stream",
     "text": [
      "<class 'pandas.core.frame.DataFrame'>\n",
      "Int64Index: 466285 entries, 1077501 to 9199665\n",
      "Data columns (total 73 columns):\n",
      " #   Column                       Non-Null Count   Dtype  \n",
      "---  ------                       --------------   -----  \n",
      " 0   member_id                    466285 non-null  int64  \n",
      " 1   loan_amnt                    466285 non-null  int64  \n",
      " 2   funded_amnt                  466285 non-null  int64  \n",
      " 3   funded_amnt_inv              466285 non-null  float64\n",
      " 4   term                         466285 non-null  object \n",
      " 5   int_rate                     466285 non-null  float64\n",
      " 6   installment                  466285 non-null  float64\n",
      " 7   grade                        466285 non-null  object \n",
      " 8   sub_grade                    466285 non-null  object \n",
      " 9   emp_title                    438697 non-null  object \n",
      " 10  emp_length                   445277 non-null  object \n",
      " 11  home_ownership               466285 non-null  object \n",
      " 12  annual_inc                   466281 non-null  float64\n",
      " 13  verification_status          466285 non-null  object \n",
      " 14  issue_d                      466285 non-null  object \n",
      " 15  loan_status                  466285 non-null  object \n",
      " 16  pymnt_plan                   466285 non-null  object \n",
      " 17  url                          466285 non-null  object \n",
      " 18  desc                         125983 non-null  object \n",
      " 19  purpose                      466285 non-null  object \n",
      " 20  title                        466265 non-null  object \n",
      " 21  zip_code                     466285 non-null  object \n",
      " 22  addr_state                   466285 non-null  object \n",
      " 23  dti                          466285 non-null  float64\n",
      " 24  delinq_2yrs                  466256 non-null  float64\n",
      " 25  earliest_cr_line             466256 non-null  object \n",
      " 26  inq_last_6mths               466256 non-null  float64\n",
      " 27  mths_since_last_delinq       215934 non-null  float64\n",
      " 28  mths_since_last_record       62638 non-null   float64\n",
      " 29  open_acc                     466256 non-null  float64\n",
      " 30  pub_rec                      466256 non-null  float64\n",
      " 31  revol_bal                    466285 non-null  int64  \n",
      " 32  revol_util                   465945 non-null  float64\n",
      " 33  total_acc                    466256 non-null  float64\n",
      " 34  initial_list_status          466285 non-null  object \n",
      " 35  out_prncp                    466285 non-null  float64\n",
      " 36  out_prncp_inv                466285 non-null  float64\n",
      " 37  total_pymnt                  466285 non-null  float64\n",
      " 38  total_pymnt_inv              466285 non-null  float64\n",
      " 39  total_rec_prncp              466285 non-null  float64\n",
      " 40  total_rec_int                466285 non-null  float64\n",
      " 41  total_rec_late_fee           466285 non-null  float64\n",
      " 42  recoveries                   466285 non-null  float64\n",
      " 43  collection_recovery_fee      466285 non-null  float64\n",
      " 44  last_pymnt_d                 465909 non-null  object \n",
      " 45  last_pymnt_amnt              466285 non-null  float64\n",
      " 46  next_pymnt_d                 239071 non-null  object \n",
      " 47  last_credit_pull_d           466243 non-null  object \n",
      " 48  collections_12_mths_ex_med   466140 non-null  float64\n",
      " 49  mths_since_last_major_derog  98974 non-null   float64\n",
      " 50  policy_code                  466285 non-null  int64  \n",
      " 51  application_type             466285 non-null  object \n",
      " 52  annual_inc_joint             0 non-null       float64\n",
      " 53  dti_joint                    0 non-null       float64\n",
      " 54  verification_status_joint    0 non-null       float64\n",
      " 55  acc_now_delinq               466256 non-null  float64\n",
      " 56  tot_coll_amt                 396009 non-null  float64\n",
      " 57  tot_cur_bal                  396009 non-null  float64\n",
      " 58  open_acc_6m                  0 non-null       float64\n",
      " 59  open_il_6m                   0 non-null       float64\n",
      " 60  open_il_12m                  0 non-null       float64\n",
      " 61  open_il_24m                  0 non-null       float64\n",
      " 62  mths_since_rcnt_il           0 non-null       float64\n",
      " 63  total_bal_il                 0 non-null       float64\n",
      " 64  il_util                      0 non-null       float64\n",
      " 65  open_rv_12m                  0 non-null       float64\n",
      " 66  open_rv_24m                  0 non-null       float64\n",
      " 67  max_bal_bc                   0 non-null       float64\n",
      " 68  all_util                     0 non-null       float64\n",
      " 69  total_rev_hi_lim             396009 non-null  float64\n",
      " 70  inq_fi                       0 non-null       float64\n",
      " 71  total_cu_tl                  0 non-null       float64\n",
      " 72  inq_last_12m                 0 non-null       float64\n",
      "dtypes: float64(46), int64(5), object(22)\n",
      "memory usage: 263.3+ MB\n"
     ]
    }
   ],
   "source": [
    "df.info()"
   ]
  },
  {
   "cell_type": "code",
   "execution_count": 12,
   "id": "57c9155b",
   "metadata": {},
   "outputs": [
    {
     "data": {
      "text/html": [
       "<div>\n",
       "<style scoped>\n",
       "    .dataframe tbody tr th:only-of-type {\n",
       "        vertical-align: middle;\n",
       "    }\n",
       "\n",
       "    .dataframe tbody tr th {\n",
       "        vertical-align: top;\n",
       "    }\n",
       "\n",
       "    .dataframe thead th {\n",
       "        text-align: right;\n",
       "    }\n",
       "</style>\n",
       "<table border=\"1\" class=\"dataframe\">\n",
       "  <thead>\n",
       "    <tr style=\"text-align: right;\">\n",
       "      <th></th>\n",
       "      <th>member_id</th>\n",
       "      <th>loan_amnt</th>\n",
       "      <th>funded_amnt</th>\n",
       "      <th>funded_amnt_inv</th>\n",
       "      <th>int_rate</th>\n",
       "      <th>installment</th>\n",
       "      <th>annual_inc</th>\n",
       "      <th>dti</th>\n",
       "      <th>delinq_2yrs</th>\n",
       "      <th>inq_last_6mths</th>\n",
       "      <th>...</th>\n",
       "      <th>total_bal_il</th>\n",
       "      <th>il_util</th>\n",
       "      <th>open_rv_12m</th>\n",
       "      <th>open_rv_24m</th>\n",
       "      <th>max_bal_bc</th>\n",
       "      <th>all_util</th>\n",
       "      <th>total_rev_hi_lim</th>\n",
       "      <th>inq_fi</th>\n",
       "      <th>total_cu_tl</th>\n",
       "      <th>inq_last_12m</th>\n",
       "    </tr>\n",
       "  </thead>\n",
       "  <tbody>\n",
       "    <tr>\n",
       "      <th>count</th>\n",
       "      <td>4.662850e+05</td>\n",
       "      <td>466285.000000</td>\n",
       "      <td>466285.000000</td>\n",
       "      <td>466285.000000</td>\n",
       "      <td>466285.000000</td>\n",
       "      <td>466285.000000</td>\n",
       "      <td>4.662810e+05</td>\n",
       "      <td>466285.000000</td>\n",
       "      <td>466256.000000</td>\n",
       "      <td>466256.000000</td>\n",
       "      <td>...</td>\n",
       "      <td>0.0</td>\n",
       "      <td>0.0</td>\n",
       "      <td>0.0</td>\n",
       "      <td>0.0</td>\n",
       "      <td>0.0</td>\n",
       "      <td>0.0</td>\n",
       "      <td>3.960090e+05</td>\n",
       "      <td>0.0</td>\n",
       "      <td>0.0</td>\n",
       "      <td>0.0</td>\n",
       "    </tr>\n",
       "    <tr>\n",
       "      <th>mean</th>\n",
       "      <td>1.459766e+07</td>\n",
       "      <td>14317.277577</td>\n",
       "      <td>14291.801044</td>\n",
       "      <td>14222.329888</td>\n",
       "      <td>13.829236</td>\n",
       "      <td>432.061201</td>\n",
       "      <td>7.327738e+04</td>\n",
       "      <td>17.218758</td>\n",
       "      <td>0.284678</td>\n",
       "      <td>0.804745</td>\n",
       "      <td>...</td>\n",
       "      <td>NaN</td>\n",
       "      <td>NaN</td>\n",
       "      <td>NaN</td>\n",
       "      <td>NaN</td>\n",
       "      <td>NaN</td>\n",
       "      <td>NaN</td>\n",
       "      <td>3.037909e+04</td>\n",
       "      <td>NaN</td>\n",
       "      <td>NaN</td>\n",
       "      <td>NaN</td>\n",
       "    </tr>\n",
       "    <tr>\n",
       "      <th>std</th>\n",
       "      <td>1.168237e+07</td>\n",
       "      <td>8286.509164</td>\n",
       "      <td>8274.371300</td>\n",
       "      <td>8297.637788</td>\n",
       "      <td>4.357587</td>\n",
       "      <td>243.485550</td>\n",
       "      <td>5.496357e+04</td>\n",
       "      <td>7.851121</td>\n",
       "      <td>0.797365</td>\n",
       "      <td>1.091598</td>\n",
       "      <td>...</td>\n",
       "      <td>NaN</td>\n",
       "      <td>NaN</td>\n",
       "      <td>NaN</td>\n",
       "      <td>NaN</td>\n",
       "      <td>NaN</td>\n",
       "      <td>NaN</td>\n",
       "      <td>3.724713e+04</td>\n",
       "      <td>NaN</td>\n",
       "      <td>NaN</td>\n",
       "      <td>NaN</td>\n",
       "    </tr>\n",
       "    <tr>\n",
       "      <th>min</th>\n",
       "      <td>7.047300e+04</td>\n",
       "      <td>500.000000</td>\n",
       "      <td>500.000000</td>\n",
       "      <td>0.000000</td>\n",
       "      <td>5.420000</td>\n",
       "      <td>15.670000</td>\n",
       "      <td>1.896000e+03</td>\n",
       "      <td>0.000000</td>\n",
       "      <td>0.000000</td>\n",
       "      <td>0.000000</td>\n",
       "      <td>...</td>\n",
       "      <td>NaN</td>\n",
       "      <td>NaN</td>\n",
       "      <td>NaN</td>\n",
       "      <td>NaN</td>\n",
       "      <td>NaN</td>\n",
       "      <td>NaN</td>\n",
       "      <td>0.000000e+00</td>\n",
       "      <td>NaN</td>\n",
       "      <td>NaN</td>\n",
       "      <td>NaN</td>\n",
       "    </tr>\n",
       "    <tr>\n",
       "      <th>25%</th>\n",
       "      <td>4.379705e+06</td>\n",
       "      <td>8000.000000</td>\n",
       "      <td>8000.000000</td>\n",
       "      <td>8000.000000</td>\n",
       "      <td>10.990000</td>\n",
       "      <td>256.690000</td>\n",
       "      <td>4.500000e+04</td>\n",
       "      <td>11.360000</td>\n",
       "      <td>0.000000</td>\n",
       "      <td>0.000000</td>\n",
       "      <td>...</td>\n",
       "      <td>NaN</td>\n",
       "      <td>NaN</td>\n",
       "      <td>NaN</td>\n",
       "      <td>NaN</td>\n",
       "      <td>NaN</td>\n",
       "      <td>NaN</td>\n",
       "      <td>1.350000e+04</td>\n",
       "      <td>NaN</td>\n",
       "      <td>NaN</td>\n",
       "      <td>NaN</td>\n",
       "    </tr>\n",
       "    <tr>\n",
       "      <th>50%</th>\n",
       "      <td>1.194108e+07</td>\n",
       "      <td>12000.000000</td>\n",
       "      <td>12000.000000</td>\n",
       "      <td>12000.000000</td>\n",
       "      <td>13.660000</td>\n",
       "      <td>379.890000</td>\n",
       "      <td>6.300000e+04</td>\n",
       "      <td>16.870000</td>\n",
       "      <td>0.000000</td>\n",
       "      <td>0.000000</td>\n",
       "      <td>...</td>\n",
       "      <td>NaN</td>\n",
       "      <td>NaN</td>\n",
       "      <td>NaN</td>\n",
       "      <td>NaN</td>\n",
       "      <td>NaN</td>\n",
       "      <td>NaN</td>\n",
       "      <td>2.280000e+04</td>\n",
       "      <td>NaN</td>\n",
       "      <td>NaN</td>\n",
       "      <td>NaN</td>\n",
       "    </tr>\n",
       "    <tr>\n",
       "      <th>75%</th>\n",
       "      <td>2.300154e+07</td>\n",
       "      <td>20000.000000</td>\n",
       "      <td>20000.000000</td>\n",
       "      <td>19950.000000</td>\n",
       "      <td>16.490000</td>\n",
       "      <td>566.580000</td>\n",
       "      <td>8.896000e+04</td>\n",
       "      <td>22.780000</td>\n",
       "      <td>0.000000</td>\n",
       "      <td>1.000000</td>\n",
       "      <td>...</td>\n",
       "      <td>NaN</td>\n",
       "      <td>NaN</td>\n",
       "      <td>NaN</td>\n",
       "      <td>NaN</td>\n",
       "      <td>NaN</td>\n",
       "      <td>NaN</td>\n",
       "      <td>3.790000e+04</td>\n",
       "      <td>NaN</td>\n",
       "      <td>NaN</td>\n",
       "      <td>NaN</td>\n",
       "    </tr>\n",
       "    <tr>\n",
       "      <th>max</th>\n",
       "      <td>4.086083e+07</td>\n",
       "      <td>35000.000000</td>\n",
       "      <td>35000.000000</td>\n",
       "      <td>35000.000000</td>\n",
       "      <td>26.060000</td>\n",
       "      <td>1409.990000</td>\n",
       "      <td>7.500000e+06</td>\n",
       "      <td>39.990000</td>\n",
       "      <td>29.000000</td>\n",
       "      <td>33.000000</td>\n",
       "      <td>...</td>\n",
       "      <td>NaN</td>\n",
       "      <td>NaN</td>\n",
       "      <td>NaN</td>\n",
       "      <td>NaN</td>\n",
       "      <td>NaN</td>\n",
       "      <td>NaN</td>\n",
       "      <td>9.999999e+06</td>\n",
       "      <td>NaN</td>\n",
       "      <td>NaN</td>\n",
       "      <td>NaN</td>\n",
       "    </tr>\n",
       "  </tbody>\n",
       "</table>\n",
       "<p>8 rows × 51 columns</p>\n",
       "</div>"
      ],
      "text/plain": [
       "          member_id      loan_amnt    funded_amnt  funded_amnt_inv  \\\n",
       "count  4.662850e+05  466285.000000  466285.000000    466285.000000   \n",
       "mean   1.459766e+07   14317.277577   14291.801044     14222.329888   \n",
       "std    1.168237e+07    8286.509164    8274.371300      8297.637788   \n",
       "min    7.047300e+04     500.000000     500.000000         0.000000   \n",
       "25%    4.379705e+06    8000.000000    8000.000000      8000.000000   \n",
       "50%    1.194108e+07   12000.000000   12000.000000     12000.000000   \n",
       "75%    2.300154e+07   20000.000000   20000.000000     19950.000000   \n",
       "max    4.086083e+07   35000.000000   35000.000000     35000.000000   \n",
       "\n",
       "            int_rate    installment    annual_inc            dti  \\\n",
       "count  466285.000000  466285.000000  4.662810e+05  466285.000000   \n",
       "mean       13.829236     432.061201  7.327738e+04      17.218758   \n",
       "std         4.357587     243.485550  5.496357e+04       7.851121   \n",
       "min         5.420000      15.670000  1.896000e+03       0.000000   \n",
       "25%        10.990000     256.690000  4.500000e+04      11.360000   \n",
       "50%        13.660000     379.890000  6.300000e+04      16.870000   \n",
       "75%        16.490000     566.580000  8.896000e+04      22.780000   \n",
       "max        26.060000    1409.990000  7.500000e+06      39.990000   \n",
       "\n",
       "         delinq_2yrs  inq_last_6mths  ...  total_bal_il  il_util  open_rv_12m  \\\n",
       "count  466256.000000   466256.000000  ...           0.0      0.0          0.0   \n",
       "mean        0.284678        0.804745  ...           NaN      NaN          NaN   \n",
       "std         0.797365        1.091598  ...           NaN      NaN          NaN   \n",
       "min         0.000000        0.000000  ...           NaN      NaN          NaN   \n",
       "25%         0.000000        0.000000  ...           NaN      NaN          NaN   \n",
       "50%         0.000000        0.000000  ...           NaN      NaN          NaN   \n",
       "75%         0.000000        1.000000  ...           NaN      NaN          NaN   \n",
       "max        29.000000       33.000000  ...           NaN      NaN          NaN   \n",
       "\n",
       "       open_rv_24m  max_bal_bc  all_util  total_rev_hi_lim  inq_fi  \\\n",
       "count          0.0         0.0       0.0      3.960090e+05     0.0   \n",
       "mean           NaN         NaN       NaN      3.037909e+04     NaN   \n",
       "std            NaN         NaN       NaN      3.724713e+04     NaN   \n",
       "min            NaN         NaN       NaN      0.000000e+00     NaN   \n",
       "25%            NaN         NaN       NaN      1.350000e+04     NaN   \n",
       "50%            NaN         NaN       NaN      2.280000e+04     NaN   \n",
       "75%            NaN         NaN       NaN      3.790000e+04     NaN   \n",
       "max            NaN         NaN       NaN      9.999999e+06     NaN   \n",
       "\n",
       "       total_cu_tl  inq_last_12m  \n",
       "count          0.0           0.0  \n",
       "mean           NaN           NaN  \n",
       "std            NaN           NaN  \n",
       "min            NaN           NaN  \n",
       "25%            NaN           NaN  \n",
       "50%            NaN           NaN  \n",
       "75%            NaN           NaN  \n",
       "max            NaN           NaN  \n",
       "\n",
       "[8 rows x 51 columns]"
      ]
     },
     "execution_count": 12,
     "metadata": {},
     "output_type": "execute_result"
    }
   ],
   "source": [
    "df.describe()"
   ]
  },
  {
   "cell_type": "markdown",
   "id": "d0452cfc",
   "metadata": {},
   "source": [
    "### Check for empty values"
   ]
  },
  {
   "cell_type": "code",
   "execution_count": 13,
   "id": "17c7b38f",
   "metadata": {
    "scrolled": false
   },
   "outputs": [
    {
     "data": {
      "text/plain": [
       "member_id                           0\n",
       "loan_amnt                           0\n",
       "funded_amnt                         0\n",
       "funded_amnt_inv                     0\n",
       "term                                0\n",
       "int_rate                            0\n",
       "installment                         0\n",
       "grade                               0\n",
       "sub_grade                           0\n",
       "emp_title                       27588\n",
       "emp_length                      21008\n",
       "home_ownership                      0\n",
       "annual_inc                          4\n",
       "verification_status                 0\n",
       "issue_d                             0\n",
       "loan_status                         0\n",
       "pymnt_plan                          0\n",
       "url                                 0\n",
       "desc                           340302\n",
       "purpose                             0\n",
       "title                              20\n",
       "zip_code                            0\n",
       "addr_state                          0\n",
       "dti                                 0\n",
       "delinq_2yrs                        29\n",
       "earliest_cr_line                   29\n",
       "inq_last_6mths                     29\n",
       "mths_since_last_delinq         250351\n",
       "mths_since_last_record         403647\n",
       "open_acc                           29\n",
       "pub_rec                            29\n",
       "revol_bal                           0\n",
       "revol_util                        340\n",
       "total_acc                          29\n",
       "initial_list_status                 0\n",
       "out_prncp                           0\n",
       "out_prncp_inv                       0\n",
       "total_pymnt                         0\n",
       "total_pymnt_inv                     0\n",
       "total_rec_prncp                     0\n",
       "total_rec_int                       0\n",
       "total_rec_late_fee                  0\n",
       "recoveries                          0\n",
       "collection_recovery_fee             0\n",
       "last_pymnt_d                      376\n",
       "last_pymnt_amnt                     0\n",
       "next_pymnt_d                   227214\n",
       "last_credit_pull_d                 42\n",
       "collections_12_mths_ex_med        145\n",
       "mths_since_last_major_derog    367311\n",
       "policy_code                         0\n",
       "application_type                    0\n",
       "annual_inc_joint               466285\n",
       "dti_joint                      466285\n",
       "verification_status_joint      466285\n",
       "acc_now_delinq                     29\n",
       "tot_coll_amt                    70276\n",
       "tot_cur_bal                     70276\n",
       "open_acc_6m                    466285\n",
       "open_il_6m                     466285\n",
       "open_il_12m                    466285\n",
       "open_il_24m                    466285\n",
       "mths_since_rcnt_il             466285\n",
       "total_bal_il                   466285\n",
       "il_util                        466285\n",
       "open_rv_12m                    466285\n",
       "open_rv_24m                    466285\n",
       "max_bal_bc                     466285\n",
       "all_util                       466285\n",
       "total_rev_hi_lim                70276\n",
       "inq_fi                         466285\n",
       "total_cu_tl                    466285\n",
       "inq_last_12m                   466285\n",
       "dtype: int64"
      ]
     },
     "execution_count": 13,
     "metadata": {},
     "output_type": "execute_result"
    }
   ],
   "source": [
    "pd.set_option('display.max_rows', 73)\n",
    "df.isnull().sum()"
   ]
  },
  {
   "cell_type": "markdown",
   "id": "550c67ec",
   "metadata": {},
   "source": [
    "### Target Feature Engineering(1): approved (1 or 0)\n",
    "Given the list of values for the feature loan_status and the list of feature values of grade, the combination of these features can be used to predict whether a loan application will be approved or rejected.\n",
    "\n",
    "Based on past decisions, the values for the feature loan_status that correspond to a loan application being approved are 'Current' and 'Fully Paid'. These values indicate that the borrower has made all of their payments on time and the loan is still active or has been fully repaid. And the feature values of grade that correspond to a loan application being approved are typically A, B, and C. These values indicate that the borrower has a high credit score and a low risk of default.\n",
    "\n",
    "On the other hand, the values that correspond to a loan application being rejected are 'Charged Off', 'Default', 'Does not meet the credit policy. Status: Charged Off', 'Late' and 'In Grace Period' are not explicit rejection, but it could be considered as a warning for the borrower, and could be used as a feature for the model to predict the risk of default. And the feature values that correspond to a loan application being rejected are typically D, E, F, and G. These values indicate that the borrower has a lower credit score and a higher risk of default.\n",
    "\n",
    "It's important to note that this is a general guideline and the specific approach will depend on the business requirements and the goals of the project. The lender may have different standards and criteria, and it's possible that a borrower with a lower grade or a warning status may still be approved for a loan if they have other positive factors such as a high income or a low debt-to-income ratio.\n",
    "\n",
    "It's also important to consider the distribution of the values for the feature loan_status and grade in the dataset, if the dataset is unbalanced, where the majority of the data belongs to one class, it could impact the performance of the model. Therefore, it's important to balance the dataset or use techniques such as oversampling or undersampling to handle the imbalance.\n",
    "\n",
    "In summary, the values of loan_status 'Current' and 'Fully Paid' and feature values of grade A, B, and C correspond to a loan application being approved, while the values 'Charged Off', 'Default', 'Does not meet the credit policy. Status: Charged Off', 'Late' and 'In Grace Period' and the feature values of grade D, E, F, and G correspond to a loan application being rejected. However, it's important to consider the specific business requirements, the distribution of the data in the dataset and the combination of features used in the model."
   ]
  },
  {
   "cell_type": "markdown",
   "id": "da8f3e5d",
   "metadata": {},
   "source": [
    "### Flowchart\n",
    "<code>\n",
    "if loan_status = ['Current', 'Fully Paid']: \n",
    "   approved \n",
    "else: \n",
    "    if grade = ['A','B']: \n",
    "        approved \n",
    "    else: \n",
    "        if grade = 'C' AND debt_to_income_ratio < treshold:\n",
    "            approved \n",
    "        else: \n",
    "            rejected \n",
    " </code>"
   ]
  },
  {
   "cell_type": "markdown",
   "id": "c3469da8",
   "metadata": {},
   "source": [
    "### Test Dataset for Approval Functions"
   ]
  },
  {
   "cell_type": "code",
   "execution_count": 14,
   "id": "dd9e70f5",
   "metadata": {},
   "outputs": [
    {
     "data": {
      "text/html": [
       "<div>\n",
       "<style scoped>\n",
       "    .dataframe tbody tr th:only-of-type {\n",
       "        vertical-align: middle;\n",
       "    }\n",
       "\n",
       "    .dataframe tbody tr th {\n",
       "        vertical-align: top;\n",
       "    }\n",
       "\n",
       "    .dataframe thead th {\n",
       "        text-align: right;\n",
       "    }\n",
       "</style>\n",
       "<table border=\"1\" class=\"dataframe\">\n",
       "  <thead>\n",
       "    <tr style=\"text-align: right;\">\n",
       "      <th></th>\n",
       "      <th>loan_status</th>\n",
       "      <th>grade</th>\n",
       "      <th>dti</th>\n",
       "    </tr>\n",
       "  </thead>\n",
       "  <tbody>\n",
       "    <tr>\n",
       "      <th>0</th>\n",
       "      <td>Current</td>\n",
       "      <td>C</td>\n",
       "      <td>10</td>\n",
       "    </tr>\n",
       "    <tr>\n",
       "      <th>1</th>\n",
       "      <td>Fully Paid</td>\n",
       "      <td>A</td>\n",
       "      <td>20</td>\n",
       "    </tr>\n",
       "    <tr>\n",
       "      <th>2</th>\n",
       "      <td>Default</td>\n",
       "      <td>A</td>\n",
       "      <td>30</td>\n",
       "    </tr>\n",
       "    <tr>\n",
       "      <th>3</th>\n",
       "      <td>Late</td>\n",
       "      <td>D</td>\n",
       "      <td>40</td>\n",
       "    </tr>\n",
       "    <tr>\n",
       "      <th>4</th>\n",
       "      <td>Late</td>\n",
       "      <td>C</td>\n",
       "      <td>30</td>\n",
       "    </tr>\n",
       "    <tr>\n",
       "      <th>5</th>\n",
       "      <td>Default</td>\n",
       "      <td>A</td>\n",
       "      <td>50</td>\n",
       "    </tr>\n",
       "    <tr>\n",
       "      <th>6</th>\n",
       "      <td>Fully Paid</td>\n",
       "      <td>A</td>\n",
       "      <td>100</td>\n",
       "    </tr>\n",
       "    <tr>\n",
       "      <th>7</th>\n",
       "      <td>Late</td>\n",
       "      <td>C</td>\n",
       "      <td>30</td>\n",
       "    </tr>\n",
       "    <tr>\n",
       "      <th>8</th>\n",
       "      <td>Late</td>\n",
       "      <td>F</td>\n",
       "      <td>30</td>\n",
       "    </tr>\n",
       "  </tbody>\n",
       "</table>\n",
       "</div>"
      ],
      "text/plain": [
       "  loan_status grade  dti\n",
       "0     Current     C   10\n",
       "1  Fully Paid     A   20\n",
       "2     Default     A   30\n",
       "3        Late     D   40\n",
       "4        Late     C   30\n",
       "5     Default     A   50\n",
       "6  Fully Paid     A  100\n",
       "7        Late     C   30\n",
       "8        Late     F   30"
      ]
     },
     "execution_count": 14,
     "metadata": {},
     "output_type": "execute_result"
    }
   ],
   "source": [
    "data = pd.DataFrame({'loan_status': ['Current', 'Fully Paid', 'Default', 'Late', 'Late', 'Default', 'Fully Paid', 'Late', 'Late'], 'grade':['C','A','A','D','C','A','A', 'C', 'F'], 'dti':[10,20,30,40,30,50, 100, 30, 30]})\n",
    "data"
   ]
  },
  {
   "cell_type": "code",
   "execution_count": 15,
   "id": "9b8d9419",
   "metadata": {},
   "outputs": [],
   "source": [
    "def generate_approval_feature(df, loan_status_column, grade_column, debt_to_income_column, threshold=0):\n",
    "    \"\"\"\n",
    "    This function generate df['approved'] feature for pd.DataFrame\n",
    "    \n",
    "      Parameters:\n",
    "    - df (pd.DataFrame): The DataFrame containing the loan_status, grade, and debt_to_income_ratio_in_month data.\n",
    "    - loan_status_column (str): The name of the column in the DataFrame that contains the loan status data.\n",
    "    - grade_column (str): The name of the column in the DataFrame that contains the grade data.\n",
    "    - debt_to_income_column (str): The name of the column in the DataFrame that contains the debt data.\n",
    "    - threshold (int): The threshold for debt_to_income for the application to be approved, default to 0. can also be 'mean'\n",
    "    \n",
    "    Returns:\n",
    "    - pd.DataFrame: The input DataFrame with an added column for the debt to income ratio.\n",
    "    \n",
    "    \"\"\"\n",
    "    # accepted parameters\n",
    "    acceptable_loan_statuses = [\"Fully Paid\", \"Current\"]\n",
    "    # vectorized implementations for faster computations\n",
    "    # (1) if loan status == [\"Fully Paid\", \"Current\"] approved\n",
    "    df[\"approved\"] = np.where(df[loan_status_column].isin(acceptable_loan_statuses), 1, 0)\n",
    "    # (2) if loan status != [\"Fully Paid\", \"Current\"], but grade == [\"A\", \"B\"] still approved\n",
    "    df[\"approved\"] = np.where(df[grade_column].isin([\"A\",\"B\"]), 1, df[\"approved\"])\n",
    "    # (3) if grade == \"C\", but debt_to_income_ratio_in_month < threshold approved\n",
    "    if threshold == 'mean':\n",
    "        threshold = df[debt_to_income_column].mean()\n",
    "        df[\"approved\"] = np.where((df[grade_column] == \"C\") & (df[debt_to_income_column] <= threshold), 1, df[\"approved\"])\n",
    "    else:\n",
    "        df[\"approved\"] = np.where((df[grade_column] == \"C\") & (df[debt_to_income_column] <= threshold), 1, df[\"approved\"])\n",
    "\n",
    "generate_approval_feature(data, 'loan_status', 'grade', 'dti', 'mean')"
   ]
  },
  {
   "cell_type": "code",
   "execution_count": 16,
   "id": "677b4dc6",
   "metadata": {},
   "outputs": [
    {
     "data": {
      "text/plain": [
       "37.77777777777778"
      ]
     },
     "execution_count": 16,
     "metadata": {},
     "output_type": "execute_result"
    }
   ],
   "source": [
    "data['dti'].mean()"
   ]
  },
  {
   "cell_type": "code",
   "execution_count": 17,
   "id": "b9809794",
   "metadata": {},
   "outputs": [
    {
     "data": {
      "text/html": [
       "<div>\n",
       "<style scoped>\n",
       "    .dataframe tbody tr th:only-of-type {\n",
       "        vertical-align: middle;\n",
       "    }\n",
       "\n",
       "    .dataframe tbody tr th {\n",
       "        vertical-align: top;\n",
       "    }\n",
       "\n",
       "    .dataframe thead th {\n",
       "        text-align: right;\n",
       "    }\n",
       "</style>\n",
       "<table border=\"1\" class=\"dataframe\">\n",
       "  <thead>\n",
       "    <tr style=\"text-align: right;\">\n",
       "      <th></th>\n",
       "      <th>loan_status</th>\n",
       "      <th>grade</th>\n",
       "      <th>dti</th>\n",
       "      <th>approved</th>\n",
       "    </tr>\n",
       "  </thead>\n",
       "  <tbody>\n",
       "    <tr>\n",
       "      <th>0</th>\n",
       "      <td>Current</td>\n",
       "      <td>C</td>\n",
       "      <td>10</td>\n",
       "      <td>1</td>\n",
       "    </tr>\n",
       "    <tr>\n",
       "      <th>1</th>\n",
       "      <td>Fully Paid</td>\n",
       "      <td>A</td>\n",
       "      <td>20</td>\n",
       "      <td>1</td>\n",
       "    </tr>\n",
       "    <tr>\n",
       "      <th>2</th>\n",
       "      <td>Default</td>\n",
       "      <td>A</td>\n",
       "      <td>30</td>\n",
       "      <td>1</td>\n",
       "    </tr>\n",
       "    <tr>\n",
       "      <th>3</th>\n",
       "      <td>Late</td>\n",
       "      <td>D</td>\n",
       "      <td>40</td>\n",
       "      <td>0</td>\n",
       "    </tr>\n",
       "    <tr>\n",
       "      <th>4</th>\n",
       "      <td>Late</td>\n",
       "      <td>C</td>\n",
       "      <td>30</td>\n",
       "      <td>1</td>\n",
       "    </tr>\n",
       "    <tr>\n",
       "      <th>5</th>\n",
       "      <td>Default</td>\n",
       "      <td>A</td>\n",
       "      <td>50</td>\n",
       "      <td>1</td>\n",
       "    </tr>\n",
       "    <tr>\n",
       "      <th>6</th>\n",
       "      <td>Fully Paid</td>\n",
       "      <td>A</td>\n",
       "      <td>100</td>\n",
       "      <td>1</td>\n",
       "    </tr>\n",
       "    <tr>\n",
       "      <th>7</th>\n",
       "      <td>Late</td>\n",
       "      <td>C</td>\n",
       "      <td>30</td>\n",
       "      <td>1</td>\n",
       "    </tr>\n",
       "    <tr>\n",
       "      <th>8</th>\n",
       "      <td>Late</td>\n",
       "      <td>F</td>\n",
       "      <td>30</td>\n",
       "      <td>0</td>\n",
       "    </tr>\n",
       "  </tbody>\n",
       "</table>\n",
       "</div>"
      ],
      "text/plain": [
       "  loan_status grade  dti  approved\n",
       "0     Current     C   10         1\n",
       "1  Fully Paid     A   20         1\n",
       "2     Default     A   30         1\n",
       "3        Late     D   40         0\n",
       "4        Late     C   30         1\n",
       "5     Default     A   50         1\n",
       "6  Fully Paid     A  100         1\n",
       "7        Late     C   30         1\n",
       "8        Late     F   30         0"
      ]
     },
     "execution_count": 17,
     "metadata": {},
     "output_type": "execute_result"
    }
   ],
   "source": [
    "data"
   ]
  },
  {
   "cell_type": "markdown",
   "id": "7b751ec7",
   "metadata": {},
   "source": [
    "### Generate approved feature on the real dataset"
   ]
  },
  {
   "cell_type": "code",
   "execution_count": 18,
   "id": "b6331767",
   "metadata": {},
   "outputs": [],
   "source": [
    "generate_approval_feature(df, 'loan_status', 'grade', 'dti', 'mean')"
   ]
  },
  {
   "cell_type": "code",
   "execution_count": 19,
   "id": "6ffc15d0",
   "metadata": {
    "scrolled": true
   },
   "outputs": [
    {
     "data": {
      "text/plain": [
       "1    431421\n",
       "0     34864\n",
       "Name: approved, dtype: int64"
      ]
     },
     "execution_count": 19,
     "metadata": {},
     "output_type": "execute_result"
    }
   ],
   "source": [
    "df['approved'].value_counts(dropna=False)"
   ]
  },
  {
   "cell_type": "markdown",
   "id": "c3c37c90",
   "metadata": {},
   "source": [
    "### The target class is imbalanced, so we need to \n",
    "1. Use the proper evaluation metrics such as Precision, Recall, F1, AUC score to evaluate our model\n",
    "2. Oversampling or Undersampling the data to reduce bias (underfitting) in the minority class"
   ]
  },
  {
   "cell_type": "code",
   "execution_count": 20,
   "id": "0a992873",
   "metadata": {
    "scrolled": false
   },
   "outputs": [
    {
     "data": {
      "image/png": "[encoded data removed]",
      "text/plain": [
       "<Figure size 432x288 with 1 Axes>"
      ]
     },
     "metadata": {
      "needs_background": "light"
     },
     "output_type": "display_data"
    }
   ],
   "source": [
    "# Create the bar plot\n",
    "sns.countplot(x='approved', data=df)\n",
    "\n",
    "# Add a title\n",
    "plt.title(\"Loan Approval Counts\")\n",
    "\n",
    "# Show the plot\n",
    "plt.show()"
   ]
  },
  {
   "cell_type": "code",
   "execution_count": 21,
   "id": "e5eb9270",
   "metadata": {
    "scrolled": false
   },
   "outputs": [
    {
     "name": "stdout",
     "output_type": "stream",
     "text": [
      "<class 'pandas.core.frame.DataFrame'>\n",
      "Int64Index: 466285 entries, 1077501 to 9199665\n",
      "Data columns (total 74 columns):\n",
      " #   Column                       Non-Null Count   Dtype  \n",
      "---  ------                       --------------   -----  \n",
      " 0   member_id                    466285 non-null  int64  \n",
      " 1   loan_amnt                    466285 non-null  int64  \n",
      " 2   funded_amnt                  466285 non-null  int64  \n",
      " 3   funded_amnt_inv              466285 non-null  float64\n",
      " 4   term                         466285 non-null  object \n",
      " 5   int_rate                     466285 non-null  float64\n",
      " 6   installment                  466285 non-null  float64\n",
      " 7   grade                        466285 non-null  object \n",
      " 8   sub_grade                    466285 non-null  object \n",
      " 9   emp_title                    438697 non-null  object \n",
      " 10  emp_length                   445277 non-null  object \n",
      " 11  home_ownership               466285 non-null  object \n",
      " 12  annual_inc                   466281 non-null  float64\n",
      " 13  verification_status          466285 non-null  object \n",
      " 14  issue_d                      466285 non-null  object \n",
      " 15  loan_status                  466285 non-null  object \n",
      " 16  pymnt_plan                   466285 non-null  object \n",
      " 17  url                          466285 non-null  object \n",
      " 18  desc                         125983 non-null  object \n",
      " 19  purpose                      466285 non-null  object \n",
      " 20  title                        466265 non-null  object \n",
      " 21  zip_code                     466285 non-null  object \n",
      " 22  addr_state                   466285 non-null  object \n",
      " 23  dti                          466285 non-null  float64\n",
      " 24  delinq_2yrs                  466256 non-null  float64\n",
      " 25  earliest_cr_line             466256 non-null  object \n",
      " 26  inq_last_6mths               466256 non-null  float64\n",
      " 27  mths_since_last_delinq       215934 non-null  float64\n",
      " 28  mths_since_last_record       62638 non-null   float64\n",
      " 29  open_acc                     466256 non-null  float64\n",
      " 30  pub_rec                      466256 non-null  float64\n",
      " 31  revol_bal                    466285 non-null  int64  \n",
      " 32  revol_util                   465945 non-null  float64\n",
      " 33  total_acc                    466256 non-null  float64\n",
      " 34  initial_list_status          466285 non-null  object \n",
      " 35  out_prncp                    466285 non-null  float64\n",
      " 36  out_prncp_inv                466285 non-null  float64\n",
      " 37  total_pymnt                  466285 non-null  float64\n",
      " 38  total_pymnt_inv              466285 non-null  float64\n",
      " 39  total_rec_prncp              466285 non-null  float64\n",
      " 40  total_rec_int                466285 non-null  float64\n",
      " 41  total_rec_late_fee           466285 non-null  float64\n",
      " 42  recoveries                   466285 non-null  float64\n",
      " 43  collection_recovery_fee      466285 non-null  float64\n",
      " 44  last_pymnt_d                 465909 non-null  object \n",
      " 45  last_pymnt_amnt              466285 non-null  float64\n",
      " 46  next_pymnt_d                 239071 non-null  object \n",
      " 47  last_credit_pull_d           466243 non-null  object \n",
      " 48  collections_12_mths_ex_med   466140 non-null  float64\n",
      " 49  mths_since_last_major_derog  98974 non-null   float64\n",
      " 50  policy_code                  466285 non-null  int64  \n",
      " 51  application_type             466285 non-null  object \n",
      " 52  annual_inc_joint             0 non-null       float64\n",
      " 53  dti_joint                    0 non-null       float64\n",
      " 54  verification_status_joint    0 non-null       float64\n",
      " 55  acc_now_delinq               466256 non-null  float64\n",
      " 56  tot_coll_amt                 396009 non-null  float64\n",
      " 57  tot_cur_bal                  396009 non-null  float64\n",
      " 58  open_acc_6m                  0 non-null       float64\n",
      " 59  open_il_6m                   0 non-null       float64\n",
      " 60  open_il_12m                  0 non-null       float64\n",
      " 61  open_il_24m                  0 non-null       float64\n",
      " 62  mths_since_rcnt_il           0 non-null       float64\n",
      " 63  total_bal_il                 0 non-null       float64\n",
      " 64  il_util                      0 non-null       float64\n",
      " 65  open_rv_12m                  0 non-null       float64\n",
      " 66  open_rv_24m                  0 non-null       float64\n",
      " 67  max_bal_bc                   0 non-null       float64\n",
      " 68  all_util                     0 non-null       float64\n",
      " 69  total_rev_hi_lim             396009 non-null  float64\n",
      " 70  inq_fi                       0 non-null       float64\n",
      " 71  total_cu_tl                  0 non-null       float64\n",
      " 72  inq_last_12m                 0 non-null       float64\n",
      " 73  approved                     466285 non-null  int32  \n",
      "dtypes: float64(46), int32(1), int64(5), object(22)\n",
      "memory usage: 265.0+ MB\n"
     ]
    }
   ],
   "source": [
    "df.info()"
   ]
  },
  {
   "cell_type": "code",
   "execution_count": 22,
   "id": "240285bb",
   "metadata": {},
   "outputs": [
    {
     "data": {
      "text/plain": [
       "member_id                      466285\n",
       "loan_amnt                        1352\n",
       "funded_amnt                      1354\n",
       "funded_amnt_inv                  9854\n",
       "term                                2\n",
       "int_rate                          506\n",
       "installment                     55622\n",
       "grade                               7\n",
       "sub_grade                          35\n",
       "emp_title                      205475\n",
       "emp_length                         11\n",
       "home_ownership                      6\n",
       "annual_inc                      31901\n",
       "verification_status                 3\n",
       "issue_d                            91\n",
       "loan_status                         9\n",
       "pymnt_plan                          2\n",
       "url                            466285\n",
       "desc                           124436\n",
       "purpose                            14\n",
       "title                           63099\n",
       "zip_code                          888\n",
       "addr_state                         50\n",
       "dti                              3997\n",
       "delinq_2yrs                        24\n",
       "earliest_cr_line                  664\n",
       "inq_last_6mths                     28\n",
       "mths_since_last_delinq            145\n",
       "mths_since_last_record            123\n",
       "open_acc                           62\n",
       "pub_rec                            26\n",
       "revol_bal                       58142\n",
       "revol_util                       1269\n",
       "total_acc                         112\n",
       "initial_list_status                 2\n",
       "out_prncp                      135665\n",
       "out_prncp_inv                  141189\n",
       "total_pymnt                    351609\n",
       "total_pymnt_inv                347659\n",
       "total_rec_prncp                172713\n",
       "total_rec_int                  270249\n",
       "total_rec_late_fee               5808\n",
       "recoveries                      22773\n",
       "collection_recovery_fee         20275\n",
       "last_pymnt_d                       98\n",
       "last_pymnt_amnt                198194\n",
       "next_pymnt_d                      100\n",
       "last_credit_pull_d                103\n",
       "collections_12_mths_ex_med          9\n",
       "mths_since_last_major_derog       162\n",
       "policy_code                         1\n",
       "application_type                    1\n",
       "annual_inc_joint                    0\n",
       "dti_joint                           0\n",
       "verification_status_joint           0\n",
       "acc_now_delinq                      6\n",
       "tot_coll_amt                     6321\n",
       "tot_cur_bal                    220690\n",
       "open_acc_6m                         0\n",
       "open_il_6m                          0\n",
       "open_il_12m                         0\n",
       "open_il_24m                         0\n",
       "mths_since_rcnt_il                  0\n",
       "total_bal_il                        0\n",
       "il_util                             0\n",
       "open_rv_12m                         0\n",
       "open_rv_24m                         0\n",
       "max_bal_bc                          0\n",
       "all_util                            0\n",
       "total_rev_hi_lim                14612\n",
       "inq_fi                              0\n",
       "total_cu_tl                         0\n",
       "inq_last_12m                        0\n",
       "approved                            2\n",
       "dtype: int64"
      ]
     },
     "execution_count": 22,
     "metadata": {},
     "output_type": "execute_result"
    }
   ],
   "source": [
    "pd.set_option('display.max_rows', 75)\n",
    "df.nunique()"
   ]
  },
  {
   "cell_type": "markdown",
   "id": "c2c7bf47",
   "metadata": {},
   "source": [
    "### Feature Selection\n",
    "For predicting on new data or future data we need to consider specific features:\n",
    "- Features that will only be available in borrower application: some features like loan_status, grade, funded_amount might not be available, since the borrower is not having loan yet. \n",
    "- Features that doesn't have too many unique, duplicate, or missing values\n",
    "\n",
    "\n",
    "#### And that features are:\n",
    "#### Numeric\n",
    "- loan_amnt: the amound of loan\n",
    "- int_rate: interest rate\n",
    "- empl_length: employment length on years (0 to 10)\n",
    "- annual_inc: annual income\n",
    "- dti: debt to income ratio, a ratio calculated using the borrower’s total monthly debt payments on the total debt obligations, excluding mortgage and the requested LC loan, divided by the borrower’s self-reported monthly income.\n",
    "- delinq: delinquent, the current number of accounts where the borrower is behind on payments. It gives an indication of the borrower's ability to manage their finances and make timely payments on their debts.\n",
    "- revol_util: Revolving line utilization rate, or the amount of credit the borrower is using relative to all available revolving credit.\n",
    "- approved: whether the loan is approved or not (1 or 0)\n",
    "\n",
    "#### Categorical\n",
    "- home_ownership: the status on home ownership\n",
    "- pymnt_plan: whether or not the borrower has chosen to enroll in a payment plan. Typically, if the value is \"y\" it stands for \"yes\", the borrower has enrolled in a payment plan, and if the value is \"n\" it stands for \"no\", the borrower has not enrolled in a payment plan.\n",
    "- purpose: a category provided by the borrower for the loan request. \n",
    "- addr_state: state address\n",
    "- zip code: the first 3 numbers of the zip code provided by the borrower in the loan application.\n",
    "\n",
    "#### optional features(NLP tasks):\n",
    "Usually contains a sequence of text that can be analyze using specific machine learning technique, these feature are:\n",
    "- desc: loan description provided by the borrower"
   ]
  },
  {
   "cell_type": "code",
   "execution_count": 23,
   "id": "d61fac0f",
   "metadata": {},
   "outputs": [],
   "source": [
    "features_selection=['loan_amnt','dti', 'int_rate', 'emp_length','annual_inc', 'dti', 'delinq_2yrs', 'acc_now_delinq', 'revol_util', 'home_ownership','pymnt_plan', 'purpose', 'addr_state', 'approved']\n",
    "categorical_features=['emp_length','home_ownership','pymnt_plan', 'purpose', 'addr_state']"
   ]
  },
  {
   "cell_type": "code",
   "execution_count": 24,
   "id": "3436a36e",
   "metadata": {
    "scrolled": true
   },
   "outputs": [
    {
     "name": "stdout",
     "output_type": "stream",
     "text": [
      "total selected features:  14\n",
      "total categorical features 5\n"
     ]
    }
   ],
   "source": [
    "print(\"total selected features: \", len(features_selection))\n",
    "print(\"total categorical features\", len(categorical_features))"
   ]
  },
  {
   "cell_type": "code",
   "execution_count": 25,
   "id": "fbe1aaad",
   "metadata": {},
   "outputs": [],
   "source": [
    "# get data frame for feature selection\n",
    "# df_fs: data frame of features selection\n",
    "df_fs = df[features_selection].copy()"
   ]
  },
  {
   "cell_type": "code",
   "execution_count": 26,
   "id": "ab6fc4bc",
   "metadata": {},
   "outputs": [
    {
     "data": {
      "text/plain": [
       "loan_amnt          1352\n",
       "dti                3997\n",
       "int_rate            506\n",
       "emp_length           11\n",
       "annual_inc        31901\n",
       "dti                3997\n",
       "delinq_2yrs          24\n",
       "acc_now_delinq        6\n",
       "revol_util         1269\n",
       "home_ownership        6\n",
       "pymnt_plan            2\n",
       "purpose              14\n",
       "addr_state           50\n",
       "approved              2\n",
       "dtype: int64"
      ]
     },
     "execution_count": 26,
     "metadata": {},
     "output_type": "execute_result"
    }
   ],
   "source": [
    "df_fs.nunique()"
   ]
  },
  {
   "cell_type": "markdown",
   "id": "320772fb",
   "metadata": {},
   "source": [
    "### Handling missing values\n",
    "The common threshold or proportion to drop rows with missing values can vary depending on the specific use case and the amount of missing data that can be tolerated. A common threshold is 20-30%, meaning that if more than 20-30% of the values in a row are missing, the row is dropped. However, this threshold can be higher or lower depending on the context and the specific requirements of the analysis."
   ]
  },
  {
   "cell_type": "code",
   "execution_count": 27,
   "id": "3e8b0f4d",
   "metadata": {},
   "outputs": [
    {
     "data": {
      "text/plain": [
       "loan_amnt         0.000000\n",
       "dti               0.000000\n",
       "int_rate          0.000000\n",
       "emp_length        0.045054\n",
       "annual_inc        0.000009\n",
       "dti               0.000000\n",
       "delinq_2yrs       0.000062\n",
       "acc_now_delinq    0.000062\n",
       "revol_util        0.000729\n",
       "home_ownership    0.000000\n",
       "pymnt_plan        0.000000\n",
       "purpose           0.000000\n",
       "addr_state        0.000000\n",
       "approved          0.000000\n",
       "dtype: float64"
      ]
     },
     "execution_count": 27,
     "metadata": {},
     "output_type": "execute_result"
    }
   ],
   "source": [
    "df_fs.isnull().mean()"
   ]
  },
  {
   "cell_type": "code",
   "execution_count": 28,
   "id": "d3b45569",
   "metadata": {},
   "outputs": [],
   "source": [
    "# drop all rows that has missing values\n",
    "df_fs.dropna(axis=0, inplace=True)"
   ]
  },
  {
   "cell_type": "code",
   "execution_count": 29,
   "id": "9705c22e",
   "metadata": {},
   "outputs": [
    {
     "data": {
      "text/plain": [
       "loan_amnt         0\n",
       "dti               0\n",
       "int_rate          0\n",
       "emp_length        0\n",
       "annual_inc        0\n",
       "dti               0\n",
       "delinq_2yrs       0\n",
       "acc_now_delinq    0\n",
       "revol_util        0\n",
       "home_ownership    0\n",
       "pymnt_plan        0\n",
       "purpose           0\n",
       "addr_state        0\n",
       "approved          0\n",
       "dtype: int64"
      ]
     },
     "execution_count": 29,
     "metadata": {},
     "output_type": "execute_result"
    }
   ],
   "source": [
    "df_fs.isnull().sum()"
   ]
  },
  {
   "cell_type": "code",
   "execution_count": 30,
   "id": "a35cdea7",
   "metadata": {},
   "outputs": [
    {
     "data": {
      "text/plain": [
       "(444949, 14)"
      ]
     },
     "execution_count": 30,
     "metadata": {},
     "output_type": "execute_result"
    }
   ],
   "source": [
    "df_fs.shape"
   ]
  },
  {
   "cell_type": "code",
   "execution_count": 31,
   "id": "4ea79e85",
   "metadata": {},
   "outputs": [
    {
     "data": {
      "image/png": "[encoded data removed]",
      "text/plain": [
       "<Figure size 432x288 with 1 Axes>"
      ]
     },
     "metadata": {
      "needs_background": "light"
     },
     "output_type": "display_data"
    }
   ],
   "source": [
    "# Create the bar plot\n",
    "sns.countplot(x='approved', data=df_fs)\n",
    "\n",
    "# Add a title\n",
    "plt.title(\"Loan Approval Counts\")\n",
    "\n",
    "# Show the plot\n",
    "plt.show()"
   ]
  },
  {
   "cell_type": "markdown",
   "id": "f155730b",
   "metadata": {},
   "source": [
    "### EDA"
   ]
  },
  {
   "cell_type": "markdown",
   "id": "590be79c",
   "metadata": {},
   "source": [
    "### Encode Categorical Data\n",
    "There is no single best encoding technique for all datasets, the best encoding technique will depend on the characteristics of your dataset and the specific problem you are trying to solve. However, when dealing with imbalanced dataset and loan prediction problem, there are some encoding techniques that are particularly well-suited:\n",
    "\n",
    "- The Weight of Evidence (WOE) Encoding: This is a technique for encoding categorical variables that is particularly useful for datasets with imbalanced classes. It works by replacing each category with the log ratio of the probability of the target variable being 1 for that category to the probability of the target variable being 0. This helps to highlight the relationship between each category and the target variable, and can be particularly useful for datasets with imbalanced classes.\n",
    "\n",
    "- Target Encoding: This technique encodes categorical variables by replacing each category with the average value of the target variable for that category. This can help to reduce the number of unique categories and provide more robust feature encoding. Target encoding can be a good choice when dealing with imbalanced datasets, because it can help to highlight the relationship between each category and the target variable.\n",
    "\n",
    "- LeaveOneOut Encoding: This is a technique for encoding categorical variables that is similar to target encoding. It works by replacing each category with the average value of the target variable for all examples in the dataset, except for the one being encoded. This can help to reduce the number of unique categories and provide more robust feature encoding. LeaveOneOut Encoding can be a good choice when dealing with imbalanced\n",
    "\n",
    "Im going to choose Target Encoding (TE)"
   ]
  },
  {
   "cell_type": "code",
   "execution_count": 32,
   "id": "571fc2a6",
   "metadata": {},
   "outputs": [],
   "source": [
    "X = df_fs.loc[:, df_fs.columns][categorical_features]\n",
    "y = df_fs.approved\n",
    "\n",
    "te_encoder = ce.TargetEncoder(cols=categorical_features)\n",
    "te_encoder.fit(X, y)\n",
    "\n",
    "dump(te_encoder, open('te_encoder.pkl', 'wb')) # save te_encoder\n",
    "\n",
    "X_encoded = te_encoder.transform(X).astype('float32')\n",
    "X_encoded.columns = ['te_'+col for col in X_encoded.columns]\n",
    "\n",
    "# concat with features selection dataframe\n",
    "# and drop old categorical data\n",
    "df_fs_enc = pd.concat([df_fs, X_encoded], axis=1).drop(categorical_features, axis=1)"
   ]
  },
  {
   "cell_type": "code",
   "execution_count": 33,
   "id": "3b7c0118",
   "metadata": {},
   "outputs": [
    {
     "data": {
      "text/plain": [
       "Index(['loan_amnt', 'dti', 'int_rate', 'annual_inc', 'dti', 'delinq_2yrs',\n",
       "       'acc_now_delinq', 'revol_util', 'approved', 'te_emp_length',\n",
       "       'te_home_ownership', 'te_pymnt_plan', 'te_purpose', 'te_addr_state'],\n",
       "      dtype='object')"
      ]
     },
     "execution_count": 33,
     "metadata": {},
     "output_type": "execute_result"
    }
   ],
   "source": [
    "df_fs_enc.columns"
   ]
  },
  {
   "cell_type": "markdown",
   "id": "9bb0fb14",
   "metadata": {},
   "source": [
    "### Train - Validation - Test Split"
   ]
  },
  {
   "cell_type": "markdown",
   "id": "ba266190",
   "metadata": {},
   "source": [
    "Separate data into three groups. The distribution of training, cross-validation and test sets shown in the below table is a typical distribution, but can be varied depending on the amount of data available.\n",
    "\n",
    "| data             | % of total | Description |\n",
    "|------------------|:----------:|:---------|\n",
    "| training         | 60         | Data used to tune model parameters $w$ and $b$ in training or fitting |\n",
    "| validation | 20         | Data used to tune other model parameters like degree of polynomial, regularization or the architecture of a neural network.|\n",
    "| test             | 20         | Data used to test the model after tuning to gauge performance on new data |\n",
    "\n",
    "\n",
    "Let's generate three data sets below. We'll once again use `train_test_split` from `sklearn` but will call it twice to get three splits:"
   ]
  },
  {
   "cell_type": "code",
   "execution_count": 34,
   "id": "42530795",
   "metadata": {},
   "outputs": [
    {
     "data": {
      "text/plain": [
       "(444949, 14)"
      ]
     },
     "execution_count": 34,
     "metadata": {},
     "output_type": "execute_result"
    }
   ],
   "source": [
    "df_fs_enc.shape"
   ]
  },
  {
   "cell_type": "code",
   "execution_count": 35,
   "id": "fbfc82d3",
   "metadata": {},
   "outputs": [],
   "source": [
    "X = df_fs_enc.drop('approved', axis=1)\n",
    "y = df_fs_enc.approved\n",
    "\n",
    "# split the data using sklearn routine \n",
    "# we locked the random seed with random state = 42\n",
    "X_train, X_cv, y_train, y_cv = train_test_split(X,y,test_size=0.20, random_state=42, stratify=y)\n",
    "#X_train, X_, y_train, y_ = train_test_split(X,y,test_size=0.40, random_state=42, stratify=y)\n",
    "#X_cv, X_test, y_cv, y_test = train_test_split(X_,y_,test_size=0.50, random_state=42, stratify=y_)"
   ]
  },
  {
   "cell_type": "code",
   "execution_count": 36,
   "id": "3ec325fc",
   "metadata": {},
   "outputs": [
    {
     "name": "stdout",
     "output_type": "stream",
     "text": [
      "329470 26489\n",
      "355959 355959\n"
     ]
    }
   ],
   "source": [
    "negative = (y_train==0).sum()\n",
    "positive = (y_train==1).sum()\n",
    "print(positive, negative)\n",
    "print(positive+negative, len(y_train))"
   ]
  },
  {
   "cell_type": "markdown",
   "id": "407d18ce",
   "metadata": {},
   "source": [
    "### Scaling\n",
    "#### At what modelling step do we apply feature scaling?\n",
    "It is important to mention that before applying any sort of data normalisation, we first need to split our initial dataset into training and testing sets. Don’t forget that testing data points represent real-world data.\n",
    "\n",
    "Mean and standard deviation is taken into account when standardising our data. If we take the mean and variance of the whole dataset then we will be introducing future information into the training explanatory variables. Therefore, we should perform feature scaling over the training data and then perform normalisation on testing instances as well, but this time using the mean and standard deviation of training explanatory variables. In this way, we can test and evaluate whether our model can generalise well to new, unseen data points."
   ]
  },
  {
   "cell_type": "code",
   "execution_count": 37,
   "id": "e14f0d8f",
   "metadata": {},
   "outputs": [],
   "source": [
    "from sklearn.preprocessing import RobustScaler\n",
    "\n",
    "# RobustScaler is less prone to outliers.\n",
    "r_scaler = RobustScaler()\n",
    "\n",
    "# Fit only to the training data\n",
    "X_train_scaled = r_scaler.fit_transform(X_train)\n",
    "\n",
    "dump(r_scaler, open('r_scaler.pkl', 'wb')) # save r_scaler\n",
    "\n",
    "X_cv_scaled = r_scaler.transform(X_cv)\n",
    "#X_test_scaled = r_scaler.transform(X_test)"
   ]
  },
  {
   "cell_type": "markdown",
   "id": "8ce76495",
   "metadata": {},
   "source": [
    "### Baseline: Logistic Regression"
   ]
  },
  {
   "cell_type": "code",
   "execution_count": 38,
   "id": "7fdc7da7",
   "metadata": {
    "scrolled": false
   },
   "outputs": [
    {
     "name": "stdout",
     "output_type": "stream",
     "text": [
      "Confusion Matrix Train:\n",
      " [[   634  25855]\n",
      " [  1538 327932]]\n",
      "Classification Report Train:\n",
      "               precision    recall  f1-score   support\n",
      "\n",
      "           0       0.29      0.02      0.04     26489\n",
      "           1       0.93      1.00      0.96    329470\n",
      "\n",
      "    accuracy                           0.92    355959\n",
      "   macro avg       0.61      0.51      0.50    355959\n",
      "weighted avg       0.88      0.92      0.89    355959\n",
      "\n",
      "Confusion Matrix:\n",
      " [[  209  6413]\n",
      " [  374 81994]]\n",
      "Classification Report:\n",
      "               precision    recall  f1-score   support\n",
      "\n",
      "           0       0.36      0.03      0.06      6622\n",
      "           1       0.93      1.00      0.96     82368\n",
      "\n",
      "    accuracy                           0.92     88990\n",
      "   macro avg       0.64      0.51      0.51     88990\n",
      "weighted avg       0.89      0.92      0.89     88990\n",
      "\n"
     ]
    }
   ],
   "source": [
    "model_baseline = LogisticRegression()\n",
    "model_baseline.fit(X_train_scaled, y_train)\n",
    "y_pred = model_baseline.predict(X_cv_scaled)\n",
    "y_predtrain = model_baseline.predict(X_train_scaled)\n",
    "CM_LR = confusion_matrix(y_cv,y_pred)\n",
    "CR_LR = classification_report(y_cv,y_pred)\n",
    "CM_LRtrain = confusion_matrix(y_train,y_predtrain)\n",
    "CR_LRtrain = classification_report(y_train,y_predtrain)\n",
    "print(\"Confusion Matrix Train:\\n\",CM_LRtrain)\n",
    "print(\"Classification Report Train:\\n\",CR_LRtrain)\n",
    "print(\"Confusion Matrix:\\n\",CM_LR)\n",
    "print(\"Classification Report:\\n\",CR_LR)"
   ]
  },
  {
   "cell_type": "markdown",
   "id": "f1cc7d9a",
   "metadata": {},
   "source": [
    "Since the class are imbalanced our model struggling to identify minority class \"0\""
   ]
  },
  {
   "cell_type": "markdown",
   "id": "98a86d4d",
   "metadata": {},
   "source": [
    "### Precision - Recall curve"
   ]
  },
  {
   "cell_type": "code",
   "execution_count": 2,
   "id": "40f5686c",
   "metadata": {},
   "outputs": [],
   "source": [
    "from sklearn.metrics import precision_recall_curve"
   ]
  },
  {
   "cell_type": "code",
   "execution_count": 301,
   "id": "f7228c63",
   "metadata": {},
   "outputs": [
    {
     "name": "stdout",
     "output_type": "stream",
     "text": [
      "Logistic: f1=0.058 auc=0.233\n"
     ]
    },
    {
     "data": {
      "image/png": "[encoded data removed]",
      "text/plain": [
       "<Figure size 640x480 with 1 Axes>"
      ]
     },
     "metadata": {},
     "output_type": "display_data"
    }
   ],
   "source": [
    "# predict probabilities\n",
    "lr_probs = model_baseline.predict_proba(X_cv_scaled)\n",
    "# keep probabilities for the negative outcome only\n",
    "lr_probs = lr_probs[:, 0]\n",
    "# predict class values\n",
    "yhat = model_baseline.predict(X_cv_scaled)\n",
    "# calculate precision and recall for each threshold\n",
    "lr_precision, lr_recall, _ = precision_recall_curve(y_cv, lr_probs, pos_label=0)\n",
    "# calculate scores\n",
    "lr_f1, lr_auc = f1_score(y_cv, yhat, pos_label=0), auc(lr_recall, lr_precision)\n",
    "# summarize scores\n",
    "print('Logistic: f1=%.3f auc=%.3f' % (lr_f1, lr_auc))\n",
    "# plot the precision-recall curves\n",
    "no_skill = len(y_cv[y_cv==0]) / len(y_cv)\n",
    "#plt.plot([0, 1], [no_skill, no_skill], linestyle='--', label='Baseline')\n",
    "#plt.plot(lr_recall, lr_precision, marker='.', label='Baseline')\n",
    "plt.plot(lr_recall, lr_precision, linestyle='--', label='Baseline: LR')\n",
    "# axis labels\n",
    "plt.xlabel('Recall')\n",
    "plt.ylabel('Precision')\n",
    "# show the legend\n",
    "plt.legend()\n",
    "# show the plot\n",
    "plt.show()"
   ]
  },
  {
   "cell_type": "markdown",
   "id": "ebce22aa",
   "metadata": {},
   "source": [
    "For plotting let's prepare np.array to store precision and recall for each model"
   ]
  },
  {
   "cell_type": "code",
   "execution_count": 302,
   "id": "d879bb88",
   "metadata": {},
   "outputs": [],
   "source": [
    "# create dictionary:models to store informations for plotting\n",
    "models_info = []\n",
    "model = {'model_name': 'Baseline: LR', \n",
    "         'precision':lr_precision, \n",
    "         'recall': lr_recall}\n",
    "models_info.append(model)"
   ]
  },
  {
   "cell_type": "markdown",
   "id": "46599943",
   "metadata": {},
   "source": [
    "### Create Model Utility Functions"
   ]
  },
  {
   "cell_type": "code",
   "execution_count": 42,
   "id": "8e4d16a8",
   "metadata": {},
   "outputs": [],
   "source": [
    "def add_model_informations(models_info, model_name, precision, recall, f1=None):\n",
    "    model = {'model_name': model_name, \n",
    "             'precision': precision, \n",
    "             'recall': recall,\n",
    "             'f1': f1}\n",
    "    models_info.append(model)\n",
    "\n",
    "def compute_precision_recall(model, X_validation, y_validation, pos_label=0):\n",
    "    \"\"\"\n",
    "    This function compute precision and recall from model\n",
    "    \n",
    "      Parameters:\n",
    "    - model (sklearn.model): Model to evaluate\n",
    "    - X_validation(list): List of X values for evaluation\n",
    "    - y_validation(list): List of y labels for evaluation\n",
    "    - pos_label: label of minority class (0 or 1) default to: 0\n",
    "    \n",
    "    Returns:\n",
    "    - precisions (np.array) : list of precisions for every treshold\n",
    "    - recalls (np.array) : list of recalls for every treshold\n",
    "    \"\"\"\n",
    "    # predict probabilities\n",
    "    model_probs = model.predict_proba(X_validation)\n",
    "    # keep probabilities for the pos_label outcome only\n",
    "    model_probs = model_probs[:, pos_label]\n",
    "    # predict class values\n",
    "    yhat = model.predict(X_validation)\n",
    "    # calculate precision and recall for each threshold\n",
    "    precision, recall, _ = precision_recall_curve(y_validation, model_probs, pos_label=pos_label)\n",
    "    \n",
    "    return precision, recall\n",
    "\n",
    "def plot_precision_recall_curve(model_informations):\n",
    "    for i in range(len(model_informations)):\n",
    "        if i == 0:\n",
    "            plt.plot(model_informations[i]['recall'], model_informations[i]['precision'], linestyle='--', label=model_informations[i]['model_name'])\n",
    "        else:\n",
    "            plt.plot(model_informations[i]['recall'], model_informations[i]['precision'], linestyle='-', label=model_informations[i]['model_name'])\n",
    "    # axis labels\n",
    "    plt.xlabel('Recall')\n",
    "    plt.ylabel('Precision')\n",
    "    # show the legend\n",
    "    plt.legend()\n",
    "    # show the plot\n",
    "    plt.show()"
   ]
  },
  {
   "cell_type": "markdown",
   "id": "d7c7c323",
   "metadata": {},
   "source": [
    "### Improvement\n",
    "From data:\n",
    "- Resampling (Oversampling/Undersampling)\n",
    "- Feature Engineering\n",
    "\n",
    "From algorithm:\n",
    "- Try different model\n",
    "- Hyperparameter Tuning"
   ]
  },
  {
   "cell_type": "markdown",
   "id": "aa0a9f8b",
   "metadata": {},
   "source": [
    "### Resampling"
   ]
  },
  {
   "cell_type": "code",
   "execution_count": 304,
   "id": "41f21c8c",
   "metadata": {},
   "outputs": [
    {
     "data": {
      "text/plain": [
       "Counter({1: 329470, 0: 26489})"
      ]
     },
     "execution_count": 304,
     "metadata": {},
     "output_type": "execute_result"
    }
   ],
   "source": [
    "Counter(y_train)"
   ]
  },
  {
   "cell_type": "code",
   "execution_count": 305,
   "id": "6bb3a694",
   "metadata": {},
   "outputs": [],
   "source": [
    "over = SMOTE(sampling_strategy=1)\n",
    "under = RandomUnderSampler(sampling_strategy=1)\n",
    "steps = [('o', over), ('u', under)]\n",
    "pipeline = Pipeline(steps=steps)\n",
    "X_train_resample, y_train_resample = pipeline.fit_resample(X_train_scaled, y_train)"
   ]
  },
  {
   "cell_type": "code",
   "execution_count": 306,
   "id": "c43dcfaf",
   "metadata": {},
   "outputs": [
    {
     "data": {
      "text/plain": [
       "Counter({0: 329470, 1: 329470})"
      ]
     },
     "execution_count": 306,
     "metadata": {},
     "output_type": "execute_result"
    }
   ],
   "source": [
    "Counter(y_train_resample)"
   ]
  },
  {
   "cell_type": "markdown",
   "id": "81666dde",
   "metadata": {},
   "source": [
    "### Logistic Regression: Resample(0.5, 0.5)"
   ]
  },
  {
   "cell_type": "code",
   "execution_count": 307,
   "id": "479d05fb",
   "metadata": {
    "scrolled": false
   },
   "outputs": [
    {
     "name": "stdout",
     "output_type": "stream",
     "text": [
      "Confusion Matrix Train:\n",
      " [[256686  72784]\n",
      " [ 84008 245462]]\n",
      "Classification Report Train:\n",
      "               precision    recall  f1-score   support\n",
      "\n",
      "           0       0.75      0.78      0.77    329470\n",
      "           1       0.77      0.75      0.76    329470\n",
      "\n",
      "    accuracy                           0.76    658940\n",
      "   macro avg       0.76      0.76      0.76    658940\n",
      "weighted avg       0.76      0.76      0.76    658940\n",
      "\n",
      "Confusion Matrix:\n",
      " [[ 5110  1512]\n",
      " [21179 61189]]\n",
      "Classification Report:\n",
      "               precision    recall  f1-score   support\n",
      "\n",
      "           0       0.19      0.77      0.31      6622\n",
      "           1       0.98      0.74      0.84     82368\n",
      "\n",
      "    accuracy                           0.75     88990\n",
      "   macro avg       0.59      0.76      0.58     88990\n",
      "weighted avg       0.92      0.75      0.80     88990\n",
      "\n"
     ]
    }
   ],
   "source": [
    "lr_resample = LogisticRegression()\n",
    "lr_resample.fit(X_train_resample, y_train_resample)\n",
    "y_pred = lr_resample.predict(X_cv_scaled)\n",
    "y_predtrain = lr_resample.predict(X_train_resample)\n",
    "CM_LR = confusion_matrix(y_cv,y_pred)\n",
    "CR_LR = classification_report(y_cv,y_pred)\n",
    "CM_LRtrain = confusion_matrix(y_train_resample,y_predtrain)\n",
    "CR_LRtrain = classification_report(y_train_resample,y_predtrain)\n",
    "print(\"Confusion Matrix Train:\\n\",CM_LRtrain)\n",
    "print(\"Classification Report Train:\\n\",CR_LRtrain)\n",
    "print(\"Confusion Matrix:\\n\",CM_LR)\n",
    "print(\"Classification Report:\\n\",CR_LR)"
   ]
  },
  {
   "cell_type": "code",
   "execution_count": 308,
   "id": "f899e14c",
   "metadata": {},
   "outputs": [],
   "source": [
    "#append model_name:\"LR: Resample\" precision and recall\n",
    "precision, recall = compute_precision_recall(lr_resample, X_cv_scaled, y_cv, pos_label=0)\n",
    "add_model_informations(models_info, 'LR: Resample(0.5, 0.5)', precision, recall)"
   ]
  },
  {
   "cell_type": "code",
   "execution_count": 309,
   "id": "f43e2a2a",
   "metadata": {},
   "outputs": [
    {
     "data": {
      "text/plain": [
       "0.3105344717571633"
      ]
     },
     "execution_count": 309,
     "metadata": {},
     "output_type": "execute_result"
    }
   ],
   "source": [
    "y_predict = lr_resample.predict(X_cv_scaled)\n",
    "f1 = f1_score(y_cv, y_predict, pos_label=0)\n",
    "f1"
   ]
  },
  {
   "cell_type": "code",
   "execution_count": 310,
   "id": "5859ead6",
   "metadata": {},
   "outputs": [
    {
     "data": {
      "image/png": "[encoded data removed]",
      "text/plain": [
       "<Figure size 640x480 with 1 Axes>"
      ]
     },
     "metadata": {},
     "output_type": "display_data"
    }
   ],
   "source": [
    "plot_precision_recall_curve(models_info)"
   ]
  },
  {
   "cell_type": "markdown",
   "id": "b6b04f0a",
   "metadata": {},
   "source": [
    "### Logistic Regression: Resample (?, ?)"
   ]
  },
  {
   "cell_type": "code",
   "execution_count": 39,
   "id": "815d52b7",
   "metadata": {},
   "outputs": [],
   "source": [
    "def tuning_resample_portion(X_train, y_train, X_cv, y_cv, model_type):\n",
    "    models_info = []\n",
    "    over_portions = [None, 1, 0.9, 0.8, 0.5, 0.5]\n",
    "    under_portions = [None, 1, 1, 1, 0.9, 0.5]\n",
    "    best_f1 = 0\n",
    "    best_model = None\n",
    "    for i in range(len(over_portions)):\n",
    "        if over_portions[i] == None:\n",
    "            \n",
    "            if model_type == 'logistic':\n",
    "                model = LogisticRegression()\n",
    "                print(\"Processing - LR: Without Resample\")\n",
    "            elif model_type == 'rf':\n",
    "                model = RandomForestClassifier()\n",
    "                print(\"Processing - RF: Without Resample\")\n",
    "            elif model_type == 'xgb':\n",
    "                model = xgb.XGBClassifier()\n",
    "                print(\"Processing - XGB: Without Resample\")\n",
    "            \n",
    "            model.fit(X_train, y_train)\n",
    "            y_predict = model.predict(X_cv)\n",
    "            \n",
    "            f1 = f1_score(y_cv, y_predict, pos_label=0)\n",
    "            if f1 > best_f1:\n",
    "                best_f1 = f1\n",
    "                print(\"Top F1 updated: \", best_f1)\n",
    "                best_model = model\n",
    "            print(\"F1 :\", f1)\n",
    "            precision, recall = compute_precision_recall(model, X_cv, y_cv, pos_label=0)\n",
    "            \n",
    "            if model_type == 'logistic':\n",
    "                add_model_informations(models_info, 'LR: Without Resample F1({0:.4f})'.format(f1), precision, recall, f1)\n",
    "            elif model_type == 'rf':\n",
    "                add_model_informations(models_info, 'RF: Without Resample F1({0:.4f})'.format(f1), precision, recall, f1)\n",
    "            elif model_type == 'xgb':\n",
    "                add_model_informations(models_info, 'XGB: Without Resample F1({0:.4f})'.format(f1), precision, recall, f1)\n",
    "        else:      \n",
    "            over = SMOTE(sampling_strategy=over_portions[i])\n",
    "            under = RandomUnderSampler(sampling_strategy=under_portions[i])\n",
    "            steps = [('o', over), ('u', under)]\n",
    "            pipeline = Pipeline(steps=steps)\n",
    "            X_train_resample, y_train_resample = pipeline.fit_resample(X_train, y_train)\n",
    "            \n",
    "            if model_type == 'logistic':\n",
    "                model = LogisticRegression()\n",
    "                print(\"Processing - LR with ({}, {})\".format(over_portions[i], under_portions[i]))\n",
    "            elif model_type == 'rf':\n",
    "                model = RandomForestClassifier()\n",
    "                print(\"Processing - RF with ({}, {})\".format(over_portions[i], under_portions[i]))\n",
    "            elif model_type == 'xgb':\n",
    "                model = xgb.XGBClassifier()\n",
    "                print(\"Processing - XGB with ({}, {})\".format(over_portions[i], under_portions[i]))\n",
    "                    \n",
    "            model.fit(X_train_resample, y_train_resample)\n",
    "            y_predict = model.predict(X_cv)\n",
    "            \n",
    "            f1 = f1_score(y_cv, y_predict, pos_label=0)\n",
    "            \n",
    "            if f1 > best_f1:\n",
    "                best_f1 = f1\n",
    "                print(\"Top F1 updated: \", best_f1)\n",
    "                best_model = model\n",
    "            \n",
    "            print(\"F1 :\", f1)\n",
    "            \n",
    "            precision, recall = compute_precision_recall(model, X_cv, y_cv, pos_label=0)\n",
    "            \n",
    "            if model_type == 'logistic':\n",
    "                add_model_informations(models_info, f'LR: ({over_portions[i]},{under_portions[i]}) F1({f1:.4f})', precision, recall, f1)\n",
    "            elif model_type == 'rf':\n",
    "                add_model_informations(models_info, f'RF: ({over_portions[i]},{under_portions[i]}) F1({f1:.4f})', precision, recall, f1)\n",
    "            elif model_type == 'xgb':\n",
    "                add_model_informations(models_info, f'XGB: ({over_portions[i]},{under_portions[i]}) F1({f1:.4f})', precision, recall, f1)\n",
    "            \n",
    "    print('tuning_resample_portion - finished')\n",
    "    return models_info, best_model"
   ]
  },
  {
   "cell_type": "code",
   "execution_count": 312,
   "id": "ec7b057a",
   "metadata": {
    "scrolled": false
   },
   "outputs": [
    {
     "name": "stdout",
     "output_type": "stream",
     "text": [
      "Processing - LR: Without Resample\n",
      "Top F1 updated:  0.05801526717557252\n",
      "F1 : 0.05801526717557252\n",
      "Processing - LR with (1, 1)\n",
      "Top F1 updated:  0.3107150460780438\n",
      "F1 : 0.3107150460780438\n",
      "Processing - LR with (0.9, 1)\n",
      "F1 : 0.31038570256223214\n",
      "Processing - LR with (0.8, 1)\n",
      "F1 : 0.31043597144159196\n",
      "Processing - LR with (0.5, 0.9)\n",
      "Top F1 updated:  0.3141394959606038\n",
      "F1 : 0.3141394959606038\n",
      "Processing - LR with (0.5, 0.5)\n",
      "Top F1 updated:  0.3168362203281093\n",
      "F1 : 0.3168362203281093\n",
      "tuning_resample_portion - finished\n"
     ]
    }
   ],
   "source": [
    "models_info_resampling_lr, best_resample_lr_model = tuning_resample_portion(X_train_scaled, y_train, X_cv_scaled, y_cv, 'logistic')"
   ]
  },
  {
   "cell_type": "code",
   "execution_count": 314,
   "id": "c245d494",
   "metadata": {},
   "outputs": [
    {
     "name": "stdout",
     "output_type": "stream",
     "text": [
      "              precision    recall  f1-score   support\n",
      "\n",
      "           0       0.23      0.52      0.32      6622\n",
      "           1       0.96      0.86      0.90     82368\n",
      "\n",
      "    accuracy                           0.83     88990\n",
      "   macro avg       0.59      0.69      0.61     88990\n",
      "weighted avg       0.90      0.83      0.86     88990\n",
      "\n"
     ]
    }
   ],
   "source": [
    "y_pred = best_resample_lr_model.predict(X_cv_scaled)\n",
    "print(classification_report(y_cv, y_pred))"
   ]
  },
  {
   "cell_type": "code",
   "execution_count": 315,
   "id": "638ed599",
   "metadata": {},
   "outputs": [
    {
     "data": {
      "image/png": "[encoded data removed]",
      "text/plain": [
       "<Figure size 640x480 with 1 Axes>"
      ]
     },
     "metadata": {},
     "output_type": "display_data"
    }
   ],
   "source": [
    "plot_precision_recall_curve(models_info_resampling_lr)"
   ]
  },
  {
   "cell_type": "markdown",
   "id": "57707ca6",
   "metadata": {},
   "source": [
    "### Random Forest: Resample (?, ?)"
   ]
  },
  {
   "cell_type": "code",
   "execution_count": 205,
   "id": "565d4b0f",
   "metadata": {
    "scrolled": true
   },
   "outputs": [
    {
     "name": "stdout",
     "output_type": "stream",
     "text": [
      "Processing - RF: Without Resample\n",
      "Top F1 updated:  0.005102806543598981\n",
      "F1 : 0.005102806543598981\n",
      "Processing - RF with (1, 1)\n",
      "Top F1 updated:  0.22223982258830985\n",
      "F1 : 0.22223982258830985\n",
      "Processing - RF with (0.9, 1)\n",
      "Top F1 updated:  0.23586715867158672\n",
      "F1 : 0.23586715867158672\n",
      "Processing - RF with (0.8, 1)\n",
      "Top F1 updated:  0.2547546531302876\n",
      "F1 : 0.2547546531302876\n",
      "Processing - RF with (0.5, 0.9)\n",
      "Top F1 updated:  0.2865581869931798\n",
      "F1 : 0.2865581869931798\n",
      "Processing - RF with (0.5, 0.5)\n",
      "F1 : 0.15752230540457388\n",
      "tuning_resample_portion - finished\n"
     ]
    }
   ],
   "source": [
    "models_info_resampling_rf, best_resample_rf_model = tuning_resample_portion(X_train_scaled, y_train, X_cv_scaled, y_cv, model_type='rf')"
   ]
  },
  {
   "cell_type": "code",
   "execution_count": 207,
   "id": "f55f0492",
   "metadata": {},
   "outputs": [
    {
     "name": "stdout",
     "output_type": "stream",
     "text": [
      "              precision    recall  f1-score   support\n",
      "\n",
      "           0       0.22      0.40      0.29      6622\n",
      "           1       0.95      0.89      0.92     82368\n",
      "\n",
      "    accuracy                           0.85     88990\n",
      "   macro avg       0.59      0.64      0.60     88990\n",
      "weighted avg       0.89      0.85      0.87     88990\n",
      "\n"
     ]
    }
   ],
   "source": [
    "y_pred = best_resample_rf_model.predict(X_cv_scaled)\n",
    "print(classification_report(y_cv, y_pred))"
   ]
  },
  {
   "cell_type": "code",
   "execution_count": 53,
   "id": "a77d380a",
   "metadata": {
    "scrolled": false
   },
   "outputs": [
    {
     "data": {
      "image/png": "[encoded data removed]",
      "text/plain": [
       "<Figure size 640x480 with 1 Axes>"
      ]
     },
     "metadata": {},
     "output_type": "display_data"
    }
   ],
   "source": [
    "plot_precision_recall_curve(models_info_resampling_rf)"
   ]
  },
  {
   "cell_type": "markdown",
   "id": "8a260122",
   "metadata": {},
   "source": [
    "### XGBClassifier: Resample (?, ?)"
   ]
  },
  {
   "cell_type": "code",
   "execution_count": 206,
   "id": "a69081e7",
   "metadata": {
    "scrolled": true
   },
   "outputs": [
    {
     "name": "stdout",
     "output_type": "stream",
     "text": [
      "Processing - XGB: Without Resample\n",
      "Top F1 updated:  0.02159443869250111\n",
      "F1 : 0.02159443869250111\n",
      "Processing - XGB with (1, 1)\n",
      "Top F1 updated:  0.11832154183947305\n",
      "F1 : 0.11832154183947305\n",
      "Processing - XGB with (0.9, 1)\n",
      "Top F1 updated:  0.14509213118553713\n",
      "F1 : 0.14509213118553713\n",
      "Processing - XGB with (0.8, 1)\n",
      "Top F1 updated:  0.16657522221002963\n",
      "F1 : 0.16657522221002963\n",
      "Processing - XGB with (0.5, 0.9)\n",
      "Top F1 updated:  0.2273645546372819\n",
      "F1 : 0.2273645546372819\n",
      "Processing - XGB with (0.5, 0.5)\n",
      "F1 : 0.0844617240917013\n",
      "tuning_resample_portion - finished\n"
     ]
    }
   ],
   "source": [
    "models_info_resampling_xgb, best_resample_xgboost_model = tuning_resample_portion(X_train_scaled, y_train, X_cv_scaled, y_cv, model_type='xgb')"
   ]
  },
  {
   "cell_type": "code",
   "execution_count": 208,
   "id": "fcff2e3a",
   "metadata": {},
   "outputs": [
    {
     "name": "stdout",
     "output_type": "stream",
     "text": [
      "              precision    recall  f1-score   support\n",
      "\n",
      "           0       0.29      0.19      0.23      6622\n",
      "           1       0.94      0.96      0.95     82368\n",
      "\n",
      "    accuracy                           0.91     88990\n",
      "   macro avg       0.61      0.58      0.59     88990\n",
      "weighted avg       0.89      0.91      0.90     88990\n",
      "\n"
     ]
    }
   ],
   "source": [
    "y_pred = best_resample_xgboost_model.predict(X_cv_scaled)\n",
    "print(classification_report(y_cv, y_pred))"
   ]
  },
  {
   "cell_type": "markdown",
   "id": "7214444d",
   "metadata": {},
   "source": [
    "From above experiment model we got several finding:\n",
    "- Resampling does help model to perform better in classifying minority class, if we compared with base model without resample\n",
    "- The portion of under and oversampling slightly affect the F1 score\n",
    "- the best portion for sampling_strategy we found is really depends on the model, on logistic (0.5, 0,5) is the best, while rf (0.5, 0.9) is the best\n",
    "- the (0.5, 0.5) portion is perform worst on rf: resample model, this might indicate that the portion is not stable, \n",
    "\n",
    "Conclusion:\n",
    "We choose (0.5, 0.9) because it perform well on logistic, random forest and XGB\n",
    "\n",
    "### What to do next\n",
    "1. Try more complex model like Neural Network, and decide which model are the best based on specific metrics like F1 score\n",
    "2. Hyperparameter Tuning\n",
    "3. Feature Engineering (Add polynomial and any combination features)\n",
    "\n",
    "Let's make a recap based on our current progress, we will get model name and F1-score of each model with (0.5, 0.9) resample data"
   ]
  },
  {
   "cell_type": "code",
   "execution_count": 40,
   "id": "16f4af40",
   "metadata": {
    "scrolled": true
   },
   "outputs": [
    {
     "data": {
      "text/html": [
       "<div>\n",
       "<style scoped>\n",
       "    .dataframe tbody tr th:only-of-type {\n",
       "        vertical-align: middle;\n",
       "    }\n",
       "\n",
       "    .dataframe tbody tr th {\n",
       "        vertical-align: top;\n",
       "    }\n",
       "\n",
       "    .dataframe thead th {\n",
       "        text-align: right;\n",
       "    }\n",
       "</style>\n",
       "<table border=\"1\" class=\"dataframe\">\n",
       "  <thead>\n",
       "    <tr style=\"text-align: right;\">\n",
       "      <th></th>\n",
       "      <th>model name</th>\n",
       "      <th>F1-score</th>\n",
       "    </tr>\n",
       "  </thead>\n",
       "  <tbody>\n",
       "    <tr>\n",
       "      <th>0</th>\n",
       "      <td>Logistic Regression</td>\n",
       "      <td>0.3132</td>\n",
       "    </tr>\n",
       "    <tr>\n",
       "      <th>1</th>\n",
       "      <td>Random Forest</td>\n",
       "      <td>0.2872</td>\n",
       "    </tr>\n",
       "    <tr>\n",
       "      <th>2</th>\n",
       "      <td>XGBoost</td>\n",
       "      <td>0.2334</td>\n",
       "    </tr>\n",
       "  </tbody>\n",
       "</table>\n",
       "</div>"
      ],
      "text/plain": [
       "            model name F1-score\n",
       "0  Logistic Regression   0.3132\n",
       "1        Random Forest   0.2872\n",
       "2              XGBoost   0.2334"
      ]
     },
     "execution_count": 40,
     "metadata": {},
     "output_type": "execute_result"
    }
   ],
   "source": [
    "models_info = pd.DataFrame({'model name': ['Logistic Regression', 'Random Forest', 'XGBoost'], 'F1-score': ['0.3132', '0.2872', '0.2334']})\n",
    "models_info"
   ]
  },
  {
   "cell_type": "markdown",
   "id": "c6efb852",
   "metadata": {},
   "source": [
    "### Resample training data with (0.5, 0.9)"
   ]
  },
  {
   "cell_type": "code",
   "execution_count": 41,
   "id": "477c9a80",
   "metadata": {},
   "outputs": [],
   "source": [
    "over = SMOTE(sampling_strategy=0.5)\n",
    "under = RandomUnderSampler(sampling_strategy=0.9)\n",
    "steps = [('o', over), ('u', under)]\n",
    "pipeline = Pipeline(steps=steps)\n",
    "X_train_resample, y_train_resample = pipeline.fit_resample(X_train_scaled, y_train)"
   ]
  },
  {
   "cell_type": "markdown",
   "id": "aa7e45f2",
   "metadata": {},
   "source": [
    "### Neural Network"
   ]
  },
  {
   "cell_type": "code",
   "execution_count": 216,
   "id": "27af90bf",
   "metadata": {},
   "outputs": [],
   "source": [
    "tf.random.set_seed(42)  # applied to achieve consistent results\n",
    "model = Sequential(\n",
    "    [\n",
    "        tf.keras.Input(shape=(13,)),\n",
    "        Dense(32, activation='relu'),\n",
    "        Dense(16, activation='relu'),\n",
    "        Dense(1, activation='sigmoid', name = 'OutputLayer')\n",
    "     ]\n",
    ")"
   ]
  },
  {
   "cell_type": "code",
   "execution_count": 217,
   "id": "4d14605d",
   "metadata": {
    "scrolled": false
   },
   "outputs": [
    {
     "name": "stdout",
     "output_type": "stream",
     "text": [
      "Model: \"sequential_9\"\n",
      "_________________________________________________________________\n",
      " Layer (type)                Output Shape              Param #   \n",
      "=================================================================\n",
      " dense_15 (Dense)            (None, 32)                448       \n",
      "                                                                 \n",
      " dense_16 (Dense)            (None, 16)                528       \n",
      "                                                                 \n",
      " OutputLayer (Dense)         (None, 1)                 17        \n",
      "                                                                 \n",
      "=================================================================\n",
      "Total params: 993\n",
      "Trainable params: 993\n",
      "Non-trainable params: 0\n",
      "_________________________________________________________________\n"
     ]
    }
   ],
   "source": [
    "model.summary()"
   ]
  },
  {
   "cell_type": "markdown",
   "id": "bec92e4f",
   "metadata": {},
   "source": [
    "### Create F1 Score Custom Function\n",
    "This is because f1 score is not available in tf.keras.metrics so we need to create it ourself"
   ]
  },
  {
   "cell_type": "code",
   "execution_count": 43,
   "id": "ac8c6755",
   "metadata": {},
   "outputs": [],
   "source": [
    "# Create a precision metric\n",
    "precision = tf.keras.metrics.Precision(name='precision')\n",
    "# Create a recall metric\n",
    "recall = tf.keras.metrics.Recall(name='recall')\n",
    "\n",
    "# Define a custom F1 score metric\n",
    "class F1Score_custom(tf.keras.metrics.Metric):\n",
    "    def __init__(self, name='f1_score', **kwargs):\n",
    "        super(F1Score_custom, self).__init__(name=name, **kwargs)\n",
    "        self.f1_score = self.add_weight(name='f1_score', initializer='zeros')\n",
    "\n",
    "    def update_state(self, y_true, y_pred, sample_weight=None):\n",
    "        precision.update_state(y_true, y_pred, sample_weight)\n",
    "        recall.update_state(y_true, y_pred, sample_weight)\n",
    "        p = precision.result()\n",
    "        r = recall.result()\n",
    "        self.f1_score.assign((2 * p * r) / (p + r + 1e-7))\n",
    "\n",
    "    def result(self):\n",
    "        return self.f1_score\n",
    "\n",
    "    def reset_state(self):\n",
    "        precision.reset_state()\n",
    "        recall.reset_state()\n",
    "        self.f1_score.assign(0.0)\n",
    "\n",
    "# Create an instance of the custom F1 score metric\n",
    "f1_score = F1Score_custom()"
   ]
  },
  {
   "cell_type": "code",
   "execution_count": 228,
   "id": "1f91d693",
   "metadata": {},
   "outputs": [],
   "source": [
    "model.compile(optimizer= tf.keras.optimizers.Adam(learning_rate=0.001), \n",
    "              loss='binary_crossentropy', \n",
    "              metrics = ['accuracy', precision, recall, f1_score])"
   ]
  },
  {
   "cell_type": "code",
   "execution_count": 229,
   "id": "592c60e7",
   "metadata": {
    "scrolled": false
   },
   "outputs": [
    {
     "name": "stdout",
     "output_type": "stream",
     "text": [
      "Epoch 1/10\n",
      "8151/8151 [==============================] - 34s 4ms/step - loss: 0.4320 - accuracy: 0.7893 - precision: 0.8972 - recall: 0.6772 - f1_score: 0.7718 - val_loss: 0.4533 - val_accuracy: 0.6955 - val_precision: 0.9857 - val_recall: 0.6809 - val_f1_score: 0.8054\n",
      "Epoch 2/10\n",
      "8151/8151 [==============================] - 38s 5ms/step - loss: 0.4302 - accuracy: 0.7901 - precision: 0.8972 - recall: 0.6790 - f1_score: 0.7730 - val_loss: 0.4516 - val_accuracy: 0.6997 - val_precision: 0.9853 - val_recall: 0.6857 - val_f1_score: 0.8087\n",
      "Epoch 3/10\n",
      "8151/8151 [==============================] - 31s 4ms/step - loss: 0.4290 - accuracy: 0.7911 - precision: 0.8971 - recall: 0.6813 - f1_score: 0.7744 - val_loss: 0.4525 - val_accuracy: 0.6986 - val_precision: 0.9850 - val_recall: 0.6848 - val_f1_score: 0.8079\n",
      "Epoch 4/10\n",
      "8151/8151 [==============================] - 40s 5ms/step - loss: 0.4283 - accuracy: 0.7919 - precision: 0.8978 - recall: 0.6823 - f1_score: 0.7754 - val_loss: 0.4640 - val_accuracy: 0.6940 - val_precision: 0.9858 - val_recall: 0.6791 - val_f1_score: 0.8042\n",
      "Epoch 5/10\n",
      "8151/8151 [==============================] - 43s 5ms/step - loss: 0.4276 - accuracy: 0.7921 - precision: 0.8974 - recall: 0.6831 - f1_score: 0.7757 - val_loss: 0.4715 - val_accuracy: 0.6897 - val_precision: 0.9860 - val_recall: 0.6744 - val_f1_score: 0.8009\n",
      "Epoch 6/10\n",
      "8151/8151 [==============================] - 31s 4ms/step - loss: 0.4271 - accuracy: 0.7923 - precision: 0.8973 - recall: 0.6836 - f1_score: 0.7760 - val_loss: 0.4451 - val_accuracy: 0.7085 - val_precision: 0.9833 - val_recall: 0.6969 - val_f1_score: 0.8157\n",
      "Epoch 7/10\n",
      "8151/8151 [==============================] - 41s 5ms/step - loss: 0.4264 - accuracy: 0.7927 - precision: 0.8981 - recall: 0.6837 - f1_score: 0.7763 - val_loss: 0.4304 - val_accuracy: 0.7079 - val_precision: 0.9834 - val_recall: 0.6962 - val_f1_score: 0.8152\n",
      "Epoch 8/10\n",
      "8151/8151 [==============================] - 40s 5ms/step - loss: 0.4262 - accuracy: 0.7927 - precision: 0.8983 - recall: 0.6834 - f1_score: 0.7763 - val_loss: 0.4334 - val_accuracy: 0.7098 - val_precision: 0.9832 - val_recall: 0.6984 - val_f1_score: 0.8167\n",
      "Epoch 9/10\n",
      "8151/8151 [==============================] - 40s 5ms/step - loss: 0.4255 - accuracy: 0.7934 - precision: 0.8983 - recall: 0.6851 - f1_score: 0.7774 - val_loss: 0.4326 - val_accuracy: 0.7022 - val_precision: 0.9840 - val_recall: 0.6895 - val_f1_score: 0.8108\n",
      "Epoch 10/10\n",
      "8151/8151 [==============================] - 30s 4ms/step - loss: 0.4253 - accuracy: 0.7936 - precision: 0.8988 - recall: 0.6851 - f1_score: 0.7775 - val_loss: 0.4752 - val_accuracy: 0.6892 - val_precision: 0.9860 - val_recall: 0.6738 - val_f1_score: 0.8005\n"
     ]
    }
   ],
   "source": [
    "history = model.fit(x=X_train_resample, y=y_train_resample, batch_size=32, epochs=10, validation_data=(X_cv_scaled, y_cv))"
   ]
  },
  {
   "cell_type": "code",
   "execution_count": 230,
   "id": "5e41fec6",
   "metadata": {},
   "outputs": [
    {
     "name": "stdout",
     "output_type": "stream",
     "text": [
      "WARNING:tensorflow:AutoGraph could not transform <function Model.make_predict_function.<locals>.predict_function at 0x000001D4835994C0> and will run it as-is.\n",
      "Please report this to the TensorFlow team. When filing the bug, set the verbosity to 10 (on Linux, `export AUTOGRAPH_VERBOSITY=10`) and attach the full output.\n",
      "Cause: closure mismatch, requested ('self', 'step_function'), but source function had ()\n",
      "To silence this warning, decorate the function with @tf.autograph.experimental.do_not_convert\n",
      "WARNING: AutoGraph could not transform <function Model.make_predict_function.<locals>.predict_function at 0x000001D4835994C0> and will run it as-is.\n",
      "Please report this to the TensorFlow team. When filing the bug, set the verbosity to 10 (on Linux, `export AUTOGRAPH_VERBOSITY=10`) and attach the full output.\n",
      "Cause: closure mismatch, requested ('self', 'step_function'), but source function had ()\n",
      "To silence this warning, decorate the function with @tf.autograph.experimental.do_not_convert\n",
      "2781/2781 [==============================] - 5s 2ms/step\n",
      "              precision    recall  f1-score   support\n",
      "\n",
      "           0       0.18      0.88      0.30      6622\n",
      "           1       0.99      0.67      0.80     82368\n",
      "\n",
      "    accuracy                           0.69     88990\n",
      "   macro avg       0.58      0.78      0.55     88990\n",
      "weighted avg       0.93      0.69      0.76     88990\n",
      "\n"
     ]
    }
   ],
   "source": [
    "# Import the classification_report function\n",
    "from sklearn.metrics import classification_report\n",
    "\n",
    "# Generate the predicted labels\n",
    "y_pred = model.predict(X_cv_scaled)\n",
    "\n",
    "# Create a boolean array indicating which elements are greater than 0.5\n",
    "condition = y_pred > 0.5\n",
    "# Use the boolean array to select the elements and set them to 1\n",
    "y_pred[condition] = 1\n",
    "# Use the boolean array to select the elements that are not greater than 0.5 and set them to 0\n",
    "y_pred[~condition] = 0\n",
    "\n",
    "# Generate the classification report\n",
    "report = classification_report(y_cv, y_pred)\n",
    "\n",
    "# Print the report\n",
    "print(report)"
   ]
  },
  {
   "cell_type": "code",
   "execution_count": 225,
   "id": "ac5a6a05",
   "metadata": {},
   "outputs": [],
   "source": [
    "colors = plt.rcParams['axes.prop_cycle'].by_key()['color']\n",
    "\n",
    "def plot_metrics(history):\n",
    "    metrics = ['accuracy', 'loss', 'precision','recall', 'f1_score', 'f1_score_negative']\n",
    "\n",
    "    for n, metric in enumerate(metrics):\n",
    "        name = metric.replace(\"_\",\" \").capitalize()\n",
    "        plt.subplot(3,2,n+1)\n",
    "        plt.plot(history.epoch, history.history[metric], color=colors[0], label='Train')\n",
    "        plt.plot(history.epoch, history.history['val_'+metric],\n",
    "                 color=colors[0], linestyle=\"--\", label='Val')\n",
    "        plt.xlabel('Epoch')\n",
    "        plt.ylabel(name)\n",
    "#         if metric == 'accuracy':\n",
    "#             plt.ylim([0.990, 0.992])\n",
    "#         elif metric == 'loss':\n",
    "#             plt.ylim([0.03, 0.06])\n",
    "#         elif metric == 'precision_1':\n",
    "#             plt.ylim([0.8, 1.0])\n",
    "#         elif metric == 'recall_1':\n",
    "#             plt.ylim([0.3, 0.5])\n",
    "#         else:\n",
    "#             plt.ylim([0.0, 1.0])\n",
    "\n",
    "        plt.legend()"
   ]
  },
  {
   "cell_type": "code",
   "execution_count": 226,
   "id": "e296f115",
   "metadata": {},
   "outputs": [
    {
     "data": {
      "image/png": "[encoded data removed]",
      "text/plain": [
       "<Figure size 640x480 with 6 Axes>"
      ]
     },
     "metadata": {},
     "output_type": "display_data"
    }
   ],
   "source": [
    "plot_metrics(history)"
   ]
  },
  {
   "cell_type": "code",
   "execution_count": 42,
   "id": "31c39143",
   "metadata": {},
   "outputs": [
    {
     "data": {
      "text/html": [
       "<div>\n",
       "<style scoped>\n",
       "    .dataframe tbody tr th:only-of-type {\n",
       "        vertical-align: middle;\n",
       "    }\n",
       "\n",
       "    .dataframe tbody tr th {\n",
       "        vertical-align: top;\n",
       "    }\n",
       "\n",
       "    .dataframe thead th {\n",
       "        text-align: right;\n",
       "    }\n",
       "</style>\n",
       "<table border=\"1\" class=\"dataframe\">\n",
       "  <thead>\n",
       "    <tr style=\"text-align: right;\">\n",
       "      <th></th>\n",
       "      <th>model name</th>\n",
       "      <th>F1-score</th>\n",
       "    </tr>\n",
       "  </thead>\n",
       "  <tbody>\n",
       "    <tr>\n",
       "      <th>0</th>\n",
       "      <td>Neural Network</td>\n",
       "      <td>0.3000</td>\n",
       "    </tr>\n",
       "  </tbody>\n",
       "</table>\n",
       "</div>"
      ],
      "text/plain": [
       "       model name F1-score\n",
       "0  Neural Network   0.3000"
      ]
     },
     "execution_count": 42,
     "metadata": {},
     "output_type": "execute_result"
    }
   ],
   "source": [
    "neural_network_data = pd.DataFrame({'model name': ['Neural Network'], 'F1-score': ['0.3000']})\n",
    "neural_network_data"
   ]
  },
  {
   "cell_type": "markdown",
   "id": "d076fa25",
   "metadata": {},
   "source": [
    "### Learning Recap\n",
    "From 4 different model, Logistic Regression produce the highest result for predicting minority class (0), with the second highest neural network. "
   ]
  },
  {
   "cell_type": "code",
   "execution_count": 43,
   "id": "a0e332e7",
   "metadata": {},
   "outputs": [
    {
     "data": {
      "text/html": [
       "<div>\n",
       "<style scoped>\n",
       "    .dataframe tbody tr th:only-of-type {\n",
       "        vertical-align: middle;\n",
       "    }\n",
       "\n",
       "    .dataframe tbody tr th {\n",
       "        vertical-align: top;\n",
       "    }\n",
       "\n",
       "    .dataframe thead th {\n",
       "        text-align: right;\n",
       "    }\n",
       "</style>\n",
       "<table border=\"1\" class=\"dataframe\">\n",
       "  <thead>\n",
       "    <tr style=\"text-align: right;\">\n",
       "      <th></th>\n",
       "      <th>model name</th>\n",
       "      <th>F1-score</th>\n",
       "    </tr>\n",
       "  </thead>\n",
       "  <tbody>\n",
       "    <tr>\n",
       "      <th>0</th>\n",
       "      <td>Logistic Regression</td>\n",
       "      <td>0.3132</td>\n",
       "    </tr>\n",
       "    <tr>\n",
       "      <th>1</th>\n",
       "      <td>Random Forest</td>\n",
       "      <td>0.2872</td>\n",
       "    </tr>\n",
       "    <tr>\n",
       "      <th>2</th>\n",
       "      <td>XGBoost</td>\n",
       "      <td>0.2334</td>\n",
       "    </tr>\n",
       "    <tr>\n",
       "      <th>3</th>\n",
       "      <td>Neural Network</td>\n",
       "      <td>0.3000</td>\n",
       "    </tr>\n",
       "  </tbody>\n",
       "</table>\n",
       "</div>"
      ],
      "text/plain": [
       "            model name F1-score\n",
       "0  Logistic Regression   0.3132\n",
       "1        Random Forest   0.2872\n",
       "2              XGBoost   0.2334\n",
       "3       Neural Network   0.3000"
      ]
     },
     "execution_count": 43,
     "metadata": {},
     "output_type": "execute_result"
    }
   ],
   "source": [
    "models_info = pd.concat([models_info, neural_network_data], ignore_index=True)\n",
    "models_info"
   ]
  },
  {
   "cell_type": "markdown",
   "id": "e4373b7c",
   "metadata": {},
   "source": [
    "### Feature Engineering (Polynomial Features)\n",
    "\n",
    "having degree polynomial will produce more complex model to capture more complex relationship in our data. The problem of polynomial feature is it's vulnerable to overfitting, but we can use regularization to minimize the effect"
   ]
  },
  {
   "cell_type": "code",
   "execution_count": 45,
   "id": "d081c6d3",
   "metadata": {},
   "outputs": [],
   "source": [
    "from sklearn.linear_model import Ridge\n",
    "from sklearn.metrics import mean_squared_error\n",
    "from sklearn.preprocessing import PolynomialFeatures"
   ]
  },
  {
   "cell_type": "code",
   "execution_count": 254,
   "id": "ccc6de24",
   "metadata": {
    "scrolled": false
   },
   "outputs": [
    {
     "name": "stderr",
     "output_type": "stream",
     "text": [
      "C:\\Users\\ASUS\\anaconda3\\envs\\fachryds\\lib\\site-packages\\sklearn\\linear_model\\_logistic.py:458: ConvergenceWarning: lbfgs failed to converge (status=1):\n",
      "STOP: TOTAL NO. of ITERATIONS REACHED LIMIT.\n",
      "\n",
      "Increase the number of iterations (max_iter) or scale the data as shown in:\n",
      "    https://scikit-learn.org/stable/modules/preprocessing.html\n",
      "Please also refer to the documentation for alternative solver options:\n",
      "    https://scikit-learn.org/stable/modules/linear_model.html#logistic-regression\n",
      "  n_iter_i = _check_optimize_result(\n",
      "C:\\Users\\ASUS\\anaconda3\\envs\\fachryds\\lib\\site-packages\\sklearn\\linear_model\\_logistic.py:458: ConvergenceWarning: lbfgs failed to converge (status=1):\n",
      "STOP: TOTAL NO. of ITERATIONS REACHED LIMIT.\n",
      "\n",
      "Increase the number of iterations (max_iter) or scale the data as shown in:\n",
      "    https://scikit-learn.org/stable/modules/preprocessing.html\n",
      "Please also refer to the documentation for alternative solver options:\n",
      "    https://scikit-learn.org/stable/modules/linear_model.html#logistic-regression\n",
      "  n_iter_i = _check_optimize_result(\n",
      "C:\\Users\\ASUS\\anaconda3\\envs\\fachryds\\lib\\site-packages\\sklearn\\linear_model\\_logistic.py:458: ConvergenceWarning: lbfgs failed to converge (status=1):\n",
      "STOP: TOTAL NO. of ITERATIONS REACHED LIMIT.\n",
      "\n",
      "Increase the number of iterations (max_iter) or scale the data as shown in:\n",
      "    https://scikit-learn.org/stable/modules/preprocessing.html\n",
      "Please also refer to the documentation for alternative solver options:\n",
      "    https://scikit-learn.org/stable/modules/linear_model.html#logistic-regression\n",
      "  n_iter_i = _check_optimize_result(\n"
     ]
    }
   ],
   "source": [
    "train_errors = []\n",
    "val_errors = []\n",
    "\n",
    "# Iterate over polynomial degrees\n",
    "for degree in range(1, 5):\n",
    "    # Create polynomial features\n",
    "    poly = PolynomialFeatures(degree=degree)\n",
    "    X_poly_train = poly.fit_transform(X_train_resample)\n",
    "    X_poly_val = poly.transform(X_cv_scaled)\n",
    "    \n",
    "     # Create and fit LinearRegression model\n",
    "    model = LogisticRegression()\n",
    "    model.fit(X_poly_train, y_train_resample)\n",
    "\n",
    "    # Predict and calculate mean squared error\n",
    "    y_train_pred = model.predict(X_poly_train)\n",
    "    y_val_pred = model.predict(X_poly_val)\n",
    "    train_mse = mean_squared_error(y_train_resample, y_train_pred)\n",
    "    val_mse = mean_squared_error(y_cv, y_val_pred)\n",
    "\n",
    "    train_errors.append((degree, train_mse))\n",
    "    val_errors.append((degree, val_mse))"
   ]
  },
  {
   "cell_type": "markdown",
   "id": "3ff8f792",
   "metadata": {},
   "source": [
    "### What is the good number of polynomial degree?\n",
    "When we're talking about polynomial degree, it's a trade-off between accuracy and complexity of the model. in this case three offers complexity with reasonable amount of error"
   ]
  },
  {
   "cell_type": "code",
   "execution_count": 255,
   "id": "a3eb04b2",
   "metadata": {},
   "outputs": [
    {
     "data": {
      "image/png": "[encoded data removed]",
      "text/plain": [
       "<Figure size 640x480 with 1 Axes>"
      ]
     },
     "metadata": {},
     "output_type": "display_data"
    }
   ],
   "source": [
    "# Plot training vs validation error\n",
    "train_errors = np.array(train_errors)\n",
    "val_errors = np.array(val_errors)\n",
    "\n",
    "fig, ax = plt.subplots()\n",
    "ax.plot(train_errors[:,0], train_errors[:,1], label='Training Error')\n",
    "ax.plot(val_errors[:,0], val_errors[:,1], label='Validation Error')\n",
    "ax.legend()\n",
    "ax.set_xlabel('Degree')\n",
    "ax.set_ylabel('Mean Squared Error')\n",
    "plt.show()"
   ]
  },
  {
   "cell_type": "markdown",
   "id": "41a7f572",
   "metadata": {},
   "source": [
    "Now let's train logistic regression using polynomial data with regularization"
   ]
  },
  {
   "cell_type": "code",
   "execution_count": 46,
   "id": "f8c51785",
   "metadata": {
    "scrolled": true
   },
   "outputs": [
    {
     "name": "stdout",
     "output_type": "stream",
     "text": [
      "              precision    recall  f1-score   support\n",
      "\n",
      "           0       0.19      0.82      0.30      6622\n",
      "           1       0.98      0.71      0.82     82368\n",
      "\n",
      "    accuracy                           0.72     88990\n",
      "   macro avg       0.58      0.77      0.56     88990\n",
      "weighted avg       0.92      0.72      0.79     88990\n",
      "\n"
     ]
    },
    {
     "name": "stderr",
     "output_type": "stream",
     "text": [
      "C:\\Users\\ASUS\\anaconda3\\envs\\tf2.8\\lib\\site-packages\\sklearn\\linear_model\\_logistic.py:444: ConvergenceWarning: lbfgs failed to converge (status=1):\n",
      "STOP: TOTAL NO. of ITERATIONS REACHED LIMIT.\n",
      "\n",
      "Increase the number of iterations (max_iter) or scale the data as shown in:\n",
      "    https://scikit-learn.org/stable/modules/preprocessing.html\n",
      "Please also refer to the documentation for alternative solver options:\n",
      "    https://scikit-learn.org/stable/modules/linear_model.html#logistic-regression\n",
      "  n_iter_i = _check_optimize_result(\n"
     ]
    }
   ],
   "source": [
    "# Create polynomial features with 3 degree\n",
    "poly = PolynomialFeatures(degree=2)\n",
    "X_poly_train = poly.fit_transform(X_train_resample)\n",
    "X_poly_val = poly.transform(X_cv_scaled)\n",
    "\n",
    " # Create and fit LinearRegression model\n",
    "model = LogisticRegression(penalty='l2', C=1.0)\n",
    "model.fit(X_poly_train, y_train_resample)\n",
    "\n",
    "y_pred = model.predict(X_poly_val)\n",
    "print(classification_report(y_cv, y_pred))"
   ]
  },
  {
   "cell_type": "markdown",
   "id": "9c3d99bc",
   "metadata": {},
   "source": [
    "## Hyperparameter Tuning"
   ]
  },
  {
   "cell_type": "code",
   "execution_count": 47,
   "id": "8216f9fc",
   "metadata": {},
   "outputs": [],
   "source": [
    "from sklearn.model_selection import GridSearchCV \n",
    "from sklearn.model_selection import RandomizedSearchCV "
   ]
  },
  {
   "cell_type": "code",
   "execution_count": 52,
   "id": "314fb2f9",
   "metadata": {},
   "outputs": [],
   "source": [
    "#simple performance reporting function\n",
    "def clf_performance(classifier, model_name):\n",
    "    print('Best Score: ' + str(classifier.best_score_))\n",
    "    print('Best Parameters: ' + str(classifier.best_params_))"
   ]
  },
  {
   "cell_type": "markdown",
   "id": "33fb0ec3",
   "metadata": {},
   "source": [
    "### Neural Network: Tuning\n",
    "- Try bigger architecture\n",
    "- Add regularization, normalization or dropout to prevent overfitting\n",
    "- Tune epochs and batch_size"
   ]
  },
  {
   "cell_type": "markdown",
   "id": "aeaa4282",
   "metadata": {},
   "source": [
    "#### Prepare the data"
   ]
  },
  {
   "cell_type": "code",
   "execution_count": 326,
   "id": "91cf4a81",
   "metadata": {},
   "outputs": [
    {
     "data": {
      "text/plain": [
       "(347773, 560)"
      ]
     },
     "execution_count": 326,
     "metadata": {},
     "output_type": "execute_result"
    }
   ],
   "source": [
    "X_poly_train.shape"
   ]
  },
  {
   "cell_type": "code",
   "execution_count": 338,
   "id": "9f50d589",
   "metadata": {},
   "outputs": [],
   "source": [
    "tf.random.set_seed(42)  # applied to achieve consistent results\n",
    "model_nn_tuning = Sequential(\n",
    "    [\n",
    "        tf.keras.Input(shape=(X_poly_train.shape[1],)),\n",
    "        Dense(64, activation='relu'),\n",
    "        tf.keras.layers.Dropout(0.4),\n",
    "        Dense(32, activation='relu'),\n",
    "        tf.keras.layers.Dropout(0.2),\n",
    "        Dense(16, activation='relu'),\n",
    "        Dense(1, activation='sigmoid', name = 'OutputLayer')\n",
    "     ]\n",
    ")"
   ]
  },
  {
   "cell_type": "code",
   "execution_count": 339,
   "id": "d3eaf8b5",
   "metadata": {},
   "outputs": [
    {
     "name": "stdout",
     "output_type": "stream",
     "text": [
      "Model: \"sequential_18\"\n",
      "_________________________________________________________________\n",
      " Layer (type)                Output Shape              Param #   \n",
      "=================================================================\n",
      " dense_42 (Dense)            (None, 64)                35904     \n",
      "                                                                 \n",
      " dropout_15 (Dropout)        (None, 64)                0         \n",
      "                                                                 \n",
      " dense_43 (Dense)            (None, 32)                2080      \n",
      "                                                                 \n",
      " dropout_16 (Dropout)        (None, 32)                0         \n",
      "                                                                 \n",
      " dense_44 (Dense)            (None, 16)                528       \n",
      "                                                                 \n",
      " OutputLayer (Dense)         (None, 1)                 17        \n",
      "                                                                 \n",
      "=================================================================\n",
      "Total params: 38,529\n",
      "Trainable params: 38,529\n",
      "Non-trainable params: 0\n",
      "_________________________________________________________________\n"
     ]
    }
   ],
   "source": [
    "model_nn_tuning.summary()"
   ]
  },
  {
   "cell_type": "code",
   "execution_count": 340,
   "id": "5d2cb485",
   "metadata": {},
   "outputs": [],
   "source": [
    "model_nn_tuning.compile(optimizer= tf.keras.optimizers.Adam(learning_rate=0.001), \n",
    "              loss='binary_crossentropy', \n",
    "              metrics = ['accuracy', precision, recall, f1_score])"
   ]
  },
  {
   "cell_type": "code",
   "execution_count": 341,
   "id": "ef5eaddb",
   "metadata": {},
   "outputs": [
    {
     "name": "stdout",
     "output_type": "stream",
     "text": [
      "Epoch 1/10\n",
      "10868/10868 [==============================] - 49s 4ms/step - loss: 0.8698 - accuracy: 0.7666 - precision: 0.9373 - recall: 0.5964 - f1_score: 0.7290 - val_loss: 0.6228 - val_accuracy: 0.6448 - val_precision: 0.9918 - val_recall: 0.6214 - val_f1_score: 0.7641\n",
      "Epoch 2/10\n",
      "10868/10868 [==============================] - 43s 4ms/step - loss: 0.5966 - accuracy: 0.7771 - precision: 0.9458 - recall: 0.6115 - f1_score: 0.7428 - val_loss: 0.6435 - val_accuracy: 0.6438 - val_precision: 0.9920 - val_recall: 0.6202 - val_f1_score: 0.7632\n",
      "Epoch 3/10\n",
      "10868/10868 [==============================] - 44s 4ms/step - loss: 0.5868 - accuracy: 0.7809 - precision: 0.9470 - recall: 0.6183 - f1_score: 0.7481 - val_loss: 0.6455 - val_accuracy: 0.6519 - val_precision: 0.9912 - val_recall: 0.6295 - val_f1_score: 0.7700\n",
      "Epoch 4/10\n",
      "10868/10868 [==============================] - 43s 4ms/step - loss: 0.5805 - accuracy: 0.7831 - precision: 0.9490 - recall: 0.6213 - f1_score: 0.7510 - val_loss: 0.6341 - val_accuracy: 0.6386 - val_precision: 0.9921 - val_recall: 0.6145 - val_f1_score: 0.7589\n",
      "Epoch 5/10\n",
      "10868/10868 [==============================] - 43s 4ms/step - loss: 0.5748 - accuracy: 0.7849 - precision: 0.9511 - recall: 0.6233 - f1_score: 0.7530 - val_loss: 0.6347 - val_accuracy: 0.6443 - val_precision: 0.9914 - val_recall: 0.6211 - val_f1_score: 0.7637\n",
      "Epoch 6/10\n",
      "10868/10868 [==============================] - 44s 4ms/step - loss: 0.5686 - accuracy: 0.7854 - precision: 0.9538 - recall: 0.6225 - f1_score: 0.7533 - val_loss: 0.6395 - val_accuracy: 0.6532 - val_precision: 0.9904 - val_recall: 0.6314 - val_f1_score: 0.7712\n",
      "Epoch 7/10\n",
      "10868/10868 [==============================] - 45s 4ms/step - loss: 0.5653 - accuracy: 0.7884 - precision: 0.9537 - recall: 0.6285 - f1_score: 0.7577 - val_loss: 0.6755 - val_accuracy: 0.6527 - val_precision: 0.9904 - val_recall: 0.6309 - val_f1_score: 0.7708\n",
      "Epoch 8/10\n",
      "10868/10868 [==============================] - 44s 4ms/step - loss: 0.5637 - accuracy: 0.7895 - precision: 0.9543 - recall: 0.6301 - f1_score: 0.7591 - val_loss: 0.6206 - val_accuracy: 0.6483 - val_precision: 0.9908 - val_recall: 0.6258 - val_f1_score: 0.7671\n",
      "Epoch 9/10\n",
      "10868/10868 [==============================] - 45s 4ms/step - loss: 0.5623 - accuracy: 0.7906 - precision: 0.9563 - recall: 0.6309 - f1_score: 0.7602 - val_loss: 0.6361 - val_accuracy: 0.6448 - val_precision: 0.9911 - val_recall: 0.6218 - val_f1_score: 0.7642\n",
      "Epoch 10/10\n",
      "10868/10868 [==============================] - 44s 4ms/step - loss: 0.5597 - accuracy: 0.7914 - precision: 0.9559 - recall: 0.6329 - f1_score: 0.7616 - val_loss: 0.6291 - val_accuracy: 0.6486 - val_precision: 0.9904 - val_recall: 0.6264 - val_f1_score: 0.7675\n"
     ]
    }
   ],
   "source": [
    "history = model_nn_tuning.fit(x=X_poly_train, \n",
    "                              y=y_train_resample, \n",
    "                              batch_size=32, epochs=10, \n",
    "                              validation_data=(X_poly_val, y_cv),\n",
    "                              class_weight = {0: 2.000, 1: 1.000})"
   ]
  },
  {
   "cell_type": "code",
   "execution_count": 343,
   "id": "12d10e6c",
   "metadata": {},
   "outputs": [
    {
     "name": "stdout",
     "output_type": "stream",
     "text": [
      "2781/2781 [==============================] - 5s 2ms/step\n",
      "              precision    recall  f1-score   support\n",
      "\n",
      "           0       0.17      0.92      0.28      6622\n",
      "           1       0.99      0.63      0.77     82368\n",
      "\n",
      "    accuracy                           0.65     88990\n",
      "   macro avg       0.58      0.78      0.52     88990\n",
      "weighted avg       0.93      0.65      0.73     88990\n",
      "\n",
      "Precision: 0.16597094220969316\n",
      "Recall: 0.9246451223195409\n",
      "Unexpected exception formatting exception. Falling back to standard exception\n"
     ]
    },
    {
     "name": "stderr",
     "output_type": "stream",
     "text": [
      "Traceback (most recent call last):\n",
      "  File \"C:\\Users\\ASUS\\anaconda3\\envs\\fachryds\\lib\\site-packages\\IPython\\core\\interactiveshell.py\", line 3442, in run_code\n",
      "    exec(code_obj, self.user_global_ns, self.user_ns)\n",
      "  File \"C:\\Users\\ASUS\\AppData\\Local\\Temp\\ipykernel_22400\\1380495084.py\", line 22, in <module>\n",
      "    print(\"F1:\", f1_score(y_cv, y_pred, pos_label=0))\n",
      "  File \"C:\\Users\\ASUS\\anaconda3\\envs\\fachryds\\lib\\site-packages\\keras\\metrics\\base_metric.py\", line 213, in __call__\n",
      "    return distributed_training_utils.call_replica_local_fn(\n",
      "  File \"C:\\Users\\ASUS\\anaconda3\\envs\\fachryds\\lib\\site-packages\\keras\\distribute\\distributed_training_utils.py\", line 60, in call_replica_local_fn\n",
      "    return fn(*args, **kwargs)\n",
      "  File \"C:\\Users\\ASUS\\anaconda3\\envs\\fachryds\\lib\\site-packages\\keras\\metrics\\base_metric.py\", line 190, in replica_local_fn\n",
      "    update_op = self.update_state(*args, **kwargs)\n",
      "  File \"C:\\Users\\ASUS\\anaconda3\\envs\\fachryds\\lib\\site-packages\\keras\\utils\\metrics_utils.py\", line 77, in decorated\n",
      "  File \"C:\\Users\\ASUS\\anaconda3\\envs\\fachryds\\lib\\site-packages\\keras\\metrics\\base_metric.py\", line 143, in update_state_fn\n",
      "    return ag_update_state(*args, **kwargs)\n",
      "  File \"C:\\Users\\ASUS\\anaconda3\\envs\\fachryds\\lib\\site-packages\\tensorflow\\python\\autograph\\impl\\api.py\", line 692, in wrapper\n",
      "    raise e.ag_error_metadata.to_exception(e)\n",
      "  File \"C:\\Users\\ASUS\\anaconda3\\envs\\fachryds\\lib\\site-packages\\tensorflow\\python\\autograph\\impl\\api.py\", line 689, in wrapper\n",
      "    return converted_call(f, args, kwargs, options=options)\n",
      "  File \"C:\\Users\\ASUS\\anaconda3\\envs\\fachryds\\lib\\site-packages\\tensorflow\\python\\autograph\\impl\\api.py\", line 439, in converted_call\n",
      "    result = converted_f(*effective_args, **kwargs)\n",
      "TypeError: in user code:\n",
      "\n",
      "\n",
      "    TypeError: tf__update_state() got an unexpected keyword argument 'pos_label'\n",
      "\n",
      "\n",
      "During handling of the above exception, another exception occurred:\n",
      "\n",
      "Traceback (most recent call last):\n",
      "  File \"C:\\Users\\ASUS\\anaconda3\\envs\\fachryds\\lib\\site-packages\\IPython\\core\\interactiveshell.py\", line 2057, in showtraceback\n",
      "    stb = self.InteractiveTB.structured_traceback(\n",
      "  File \"C:\\Users\\ASUS\\anaconda3\\envs\\fachryds\\lib\\site-packages\\IPython\\core\\ultratb.py\", line 1118, in structured_traceback\n",
      "    return FormattedTB.structured_traceback(\n",
      "  File \"C:\\Users\\ASUS\\anaconda3\\envs\\fachryds\\lib\\site-packages\\IPython\\core\\ultratb.py\", line 1012, in structured_traceback\n",
      "    return VerboseTB.structured_traceback(\n",
      "  File \"C:\\Users\\ASUS\\anaconda3\\envs\\fachryds\\lib\\site-packages\\IPython\\core\\ultratb.py\", line 865, in structured_traceback\n",
      "    formatted_exception = self.format_exception_as_a_whole(etype, evalue, etb, number_of_lines_of_context,\n",
      "  File \"C:\\Users\\ASUS\\anaconda3\\envs\\fachryds\\lib\\site-packages\\IPython\\core\\ultratb.py\", line 818, in format_exception_as_a_whole\n",
      "    frames.append(self.format_record(r))\n",
      "  File \"C:\\Users\\ASUS\\anaconda3\\envs\\fachryds\\lib\\site-packages\\IPython\\core\\ultratb.py\", line 736, in format_record\n",
      "    result += ''.join(_format_traceback_lines(frame_info.lines, Colors, self.has_colors, lvals))\n",
      "  File \"C:\\Users\\ASUS\\anaconda3\\envs\\fachryds\\lib\\site-packages\\stack_data\\utils.py\", line 144, in cached_property_wrapper\n",
      "    value = obj.__dict__[self.func.__name__] = self.func(obj)\n",
      "  File \"C:\\Users\\ASUS\\anaconda3\\envs\\fachryds\\lib\\site-packages\\stack_data\\core.py\", line 734, in lines\n",
      "    pieces = self.included_pieces\n",
      "  File \"C:\\Users\\ASUS\\anaconda3\\envs\\fachryds\\lib\\site-packages\\stack_data\\utils.py\", line 144, in cached_property_wrapper\n",
      "    value = obj.__dict__[self.func.__name__] = self.func(obj)\n",
      "  File \"C:\\Users\\ASUS\\anaconda3\\envs\\fachryds\\lib\\site-packages\\stack_data\\core.py\", line 681, in included_pieces\n",
      "    pos = scope_pieces.index(self.executing_piece)\n",
      "  File \"C:\\Users\\ASUS\\anaconda3\\envs\\fachryds\\lib\\site-packages\\stack_data\\utils.py\", line 144, in cached_property_wrapper\n",
      "    value = obj.__dict__[self.func.__name__] = self.func(obj)\n",
      "  File \"C:\\Users\\ASUS\\anaconda3\\envs\\fachryds\\lib\\site-packages\\stack_data\\core.py\", line 660, in executing_piece\n",
      "    return only(\n",
      "  File \"C:\\Users\\ASUS\\anaconda3\\envs\\fachryds\\lib\\site-packages\\executing\\executing.py\", line 190, in only\n",
      "    raise NotOneValueFound('Expected one value, found 0')\n",
      "executing.executing.NotOneValueFound: Expected one value, found 0\n"
     ]
    }
   ],
   "source": [
    "# Import the classification_report function\n",
    "from sklearn.metrics import classification_report\n",
    "\n",
    "# Generate the predicted labels\n",
    "y_pred = model_nn_tuning.predict(X_poly_val)\n",
    "\n",
    "# Create a boolean array indicating which elements are greater than 0.5\n",
    "# or usually people call this a mask\n",
    "condition = y_pred > 0.5\n",
    "# Use the boolean array to select the elements and set them to 1\n",
    "y_pred[condition] = 1\n",
    "# Use the boolean array to select the elements that are not greater than 0.5 and set them to 0\n",
    "y_pred[~condition] = 0\n",
    "\n",
    "# Generate the classification report\n",
    "report = classification_report(y_cv, y_pred)\n",
    "\n",
    "# Print the report\n",
    "print(report)\n",
    "print(\"Precision:\", precision_score(y_cv, y_pred, pos_label=0))\n",
    "print(\"Recall:\", recall_score(y_cv, y_pred, pos_label=0))\n",
    "print(\"F1:\", f1_score(y_cv, y_pred, pos_label=0))\n",
    "print(\"Area under precision (AUC) Recall:\", average_precision_score(y_cv, y_pred, pos_label=0))"
   ]
  },
  {
   "cell_type": "markdown",
   "id": "3b989e54",
   "metadata": {},
   "source": [
    "### Logistic Regression: Tuning"
   ]
  },
  {
   "cell_type": "code",
   "execution_count": 58,
   "id": "0b490635",
   "metadata": {},
   "outputs": [
    {
     "data": {
      "text/html": [
       "<div>\n",
       "<style scoped>\n",
       "    .dataframe tbody tr th:only-of-type {\n",
       "        vertical-align: middle;\n",
       "    }\n",
       "\n",
       "    .dataframe tbody tr th {\n",
       "        vertical-align: top;\n",
       "    }\n",
       "\n",
       "    .dataframe thead th {\n",
       "        text-align: right;\n",
       "    }\n",
       "</style>\n",
       "<table border=\"1\" class=\"dataframe\">\n",
       "  <thead>\n",
       "    <tr style=\"text-align: right;\">\n",
       "      <th></th>\n",
       "      <th>model name</th>\n",
       "      <th>F1-score</th>\n",
       "    </tr>\n",
       "  </thead>\n",
       "  <tbody>\n",
       "    <tr>\n",
       "      <th>0</th>\n",
       "      <td>Logistic Regression</td>\n",
       "      <td>0.3132</td>\n",
       "    </tr>\n",
       "    <tr>\n",
       "      <th>1</th>\n",
       "      <td>Random Forest</td>\n",
       "      <td>0.2872</td>\n",
       "    </tr>\n",
       "    <tr>\n",
       "      <th>2</th>\n",
       "      <td>XGBoost</td>\n",
       "      <td>0.2334</td>\n",
       "    </tr>\n",
       "    <tr>\n",
       "      <th>3</th>\n",
       "      <td>Neural Network</td>\n",
       "      <td>0.3000</td>\n",
       "    </tr>\n",
       "  </tbody>\n",
       "</table>\n",
       "</div>"
      ],
      "text/plain": [
       "            model name F1-score\n",
       "0  Logistic Regression   0.3132\n",
       "1        Random Forest   0.2872\n",
       "2              XGBoost   0.2334\n",
       "3       Neural Network   0.3000"
      ]
     },
     "execution_count": 58,
     "metadata": {},
     "output_type": "execute_result"
    }
   ],
   "source": [
    "models_info"
   ]
  },
  {
   "cell_type": "code",
   "execution_count": 49,
   "id": "d010ef88",
   "metadata": {},
   "outputs": [
    {
     "data": {
      "text/plain": [
       "(347773, 105)"
      ]
     },
     "execution_count": 49,
     "metadata": {},
     "output_type": "execute_result"
    }
   ],
   "source": [
    "X_poly_train.shape"
   ]
  },
  {
   "cell_type": "code",
   "execution_count": null,
   "id": "e499d873",
   "metadata": {},
   "outputs": [],
   "source": [
    "lr_tuning = LogisticRegression(random_state=42)\n",
    "param_grid = {\n",
    "        'C': [0.001, 0.01, 0.1, 1, 10, 100],\n",
    "        'penalty': ['l1', 'l2'],\n",
    "        'fit_intercept': [True, False],\n",
    "        'solver': ['newton-cg', 'lbfgs', 'liblinear', 'sag'],\n",
    "        'max_iter': [100, 200, 500, 1000]}\n",
    "\n",
    "clf_lr_tuning = RandomizedSearchCV(lr_tuning, param_distributions = param_grid, cv = 5, verbose = True, n_jobs = -1)\n",
    "best_clf_lr_tuning = clf_lr_tuning.fit(X_poly_train,y_train_resample)"
   ]
  },
  {
   "cell_type": "code",
   "execution_count": 53,
   "id": "519465a7",
   "metadata": {},
   "outputs": [
    {
     "name": "stdout",
     "output_type": "stream",
     "text": [
      "Best Score: 0.7741371667110801\n",
      "Best Parameters: {'solver': 'liblinear', 'penalty': 'l2', 'max_iter': 1000, 'fit_intercept': True, 'C': 100}\n",
      "Training Accuracy: 0.7746317281675116\n",
      "Validation Accuracy: 0.7187886279357231\n",
      "Confusion Matrix:\n",
      " [[ 5415  1207]\n",
      " [23818 58550]]\n",
      "Classification Report:\n",
      "               precision    recall  f1-score   support\n",
      "\n",
      "           0       0.19      0.82      0.30      6622\n",
      "           1       0.98      0.71      0.82     82368\n",
      "\n",
      "    accuracy                           0.72     88990\n",
      "   macro avg       0.58      0.76      0.56     88990\n",
      "weighted avg       0.92      0.72      0.79     88990\n",
      "\n",
      "F1: tf.Tensor(0.8239226, shape=(), dtype=float32)\n",
      "Area under precision (AUC) Recall: 0.9641245892153532\n"
     ]
    }
   ],
   "source": [
    "clf_performance(best_clf_lr_tuning,'Logistic Regression')\n",
    "\n",
    "y_pred = best_clf_lr_tuning.predict(X_poly_val)\n",
    "y_predtrain = best_clf_lr_tuning.predict(X_poly_train)\n",
    "CM_LR = confusion_matrix(y_cv,y_pred)\n",
    "CR_LR = classification_report(y_cv,y_pred)\n",
    "print(\"Training Accuracy:\", accuracy_score(y_train_resample, y_predtrain))\n",
    "print(\"Validation Accuracy:\", accuracy_score(y_cv, y_pred))\n",
    "print(\"Confusion Matrix:\\n\",CM_LR)\n",
    "print(\"Classification Report:\\n\",CR_LR)\n",
    "\n",
    "print(\"F1:\", f1_score(y_cv, y_pred))\n",
    "print(\"Area under precision (AUC) Recall:\", average_precision_score(y_cv, y_pred))"
   ]
  },
  {
   "cell_type": "code",
   "execution_count": null,
   "id": "6531796e",
   "metadata": {},
   "outputs": [],
   "source": [
    "cm_display = metrics.ConfusionMatrixDisplay(confusion_matrix = CM_LR, display_labels = [True, False])\n",
    "cm_display.plot()"
   ]
  },
  {
   "cell_type": "markdown",
   "id": "78f56200",
   "metadata": {},
   "source": [
    "### Random Forest: Tuning"
   ]
  },
  {
   "cell_type": "code",
   "execution_count": 48,
   "id": "2788f57d",
   "metadata": {},
   "outputs": [
    {
     "data": {
      "text/plain": [
       "(347773, 13)"
      ]
     },
     "execution_count": 48,
     "metadata": {},
     "output_type": "execute_result"
    }
   ],
   "source": [
    "X_train_resample.shape"
   ]
  },
  {
   "cell_type": "code",
   "execution_count": null,
   "id": "7a25c0ad",
   "metadata": {},
   "outputs": [
    {
     "name": "stdout",
     "output_type": "stream",
     "text": [
      "Fitting 5 folds for each of 10 candidates, totalling 50 fits\n"
     ]
    }
   ],
   "source": [
    "rf_tuning = RandomForestClassifier(random_state=42)\n",
    "param_grid =  {'n_estimators': [100,200, 300, 400],\n",
    "               'criterion':['gini','entropy'],\n",
    "                                  'bootstrap': [True],\n",
    "                                  'max_depth': [15, 20, 25],\n",
    "                                  'max_features': ['auto','sqrt', 10], \n",
    "                                  'min_samples_leaf': [2,3],\n",
    "                                  'min_samples_split': [2,3]}\n",
    "\n",
    "clf_rf = RandomizedSearchCV(rf_tuning, param_distributions= param_grid, cv = 5, verbose = True, n_jobs = -1)\n",
    "best_clf_rf = clf_rf.fit(X_train_resample,y_train_resample)"
   ]
  },
  {
   "cell_type": "code",
   "execution_count": null,
   "id": "14b3cacf",
   "metadata": {},
   "outputs": [],
   "source": [
    "clf_performance(best_clf_rf,'Random Forest')\n",
    "y_pred = best_clf_lr_tuning.predict(X_cv_scaled)\n",
    "y_predtrain = best_clf_lr_tuning.predict(X_train_resample)\n",
    "CM_LR = confusion_matrix(y_cv,y_pred)\n",
    "CR_LR = classification_report(y_cv,y_pred)\n",
    "print(\"Training Accuracy:\", accuracy_score(y_train_resample, y_predtrain))\n",
    "print(\"Validation Accuracy:\", accuracy_score(y_cv, y_pred))\n",
    "print(\"Confusion Matrix:\\n\",CM_LR)\n",
    "print(\"Classification Report:\\n\",CR_LR)\n",
    "print(\"F1:\", f1_score(y_cv, y_pred))\n",
    "print(\"Area under precision (AUC) Recall:\", average_precision_score(y_cv, y_pred))"
   ]
  },
  {
   "cell_type": "markdown",
   "id": "94d23404",
   "metadata": {},
   "source": [
    "### XGBoost: Tuning"
   ]
  },
  {
   "cell_type": "code",
   "execution_count": null,
   "id": "0a4f770d",
   "metadata": {},
   "outputs": [],
   "source": [
    "xgb = XGBClassifier(random_state=42)\n",
    "\n",
    "param = {\n",
    "    'n_estimators': [20, 50, 100, 250, 500,1000],\n",
    "    'colsample_bytree': [0.2, 0.5, 0.7, 0.8, 1],\n",
    "    'max_depth': [2, 5, 10, 15, 20, 25, None],\n",
    "    'reg_alpha': [0, 0.5, 1],\n",
    "    'reg_lambda': [1, 1.5, 2],\n",
    "    'subsample': [0.5,0.6,0.7, 0.8, 0.9],\n",
    "    'learning_rate':[.01,0.1,0.2,0.3,0.5, 0.7, 0.9],\n",
    "    'gamma':[0,.01,.1,1,10,100],\n",
    "    'min_child_weight':[0,.01,0.1,1,10,100],\n",
    "    'sampling_method': ['uniform', 'gradient_based']\n",
    "}\n",
    "                                  \n",
    "clf_xgb = RandomizedSearchCV(xgb, param_distributions= param, cv = 5, verbose = True, n_jobs = -1)\n",
    "best_clf_xgb = clf_xgb.fit(X_train_scale,y_train)"
   ]
  },
  {
   "cell_type": "code",
   "execution_count": null,
   "id": "08204767",
   "metadata": {},
   "outputs": [],
   "source": [
    "clf_performance(best_clf_xgb,'XGB')\n",
    "y_pred = best_clf_xgb.predict(X_cv_scaled)\n",
    "y_predtrain = best_clf_xgb.predict(X_train_resample)\n",
    "CM_LR = confusion_matrix(y_cv,y_pred)\n",
    "CR_LR = classification_report(y_cv,y_pred)\n",
    "print(\"Training Accuracy:\", accuracy_score(y_train_resample, y_predtrain))\n",
    "print(\"Validation Accuracy:\", accuracy_score(y_cv, y_pred))\n",
    "print(\"Confusion Matrix:\\n\",CM_LR)\n",
    "print(\"Classification Report:\\n\",CR_LR)\n",
    "print(\"F1:\", f1_score(y_cv, y_pred))\n",
    "print(\"Area under precision (AUC) Recall:\", average_precision_score(y_cv, y_pred))"
   ]
  }
 ],
 "metadata": {
  "kernelspec": {
   "display_name": "Python [conda env:tf2.8]",
   "language": "python",
   "name": "conda-env-tf2.8-py"
  },
  "language_info": {
   "codemirror_mode": {
    "name": "ipython",
    "version": 3
   },
   "file_extension": ".py",
   "mimetype": "text/x-python",
   "name": "python",
   "nbconvert_exporter": "python",
   "pygments_lexer": "ipython3",
   "version": "3.8.13"
  },
  "varInspector": {
   "cols": {
    "lenName": 16,
    "lenType": 16,
    "lenVar": 40
   },
   "kernels_config": {
    "python": {
     "delete_cmd_postfix": "",
     "delete_cmd_prefix": "del ",
     "library": "var_list.py",
     "varRefreshCmd": "print(var_dic_list())"
    },
    "r": {
     "delete_cmd_postfix": ") ",
     "delete_cmd_prefix": "rm(",
     "library": "var_list.r",
     "varRefreshCmd": "cat(var_dic_list()) "
    }
   },
   "types_to_exclude": [
    "module",
    "function",
    "builtin_function_or_method",
    "instance",
    "_Feature"
   ],
   "window_display": false
  }
 },
 "nbformat": 4,
 "nbformat_minor": 5
}
